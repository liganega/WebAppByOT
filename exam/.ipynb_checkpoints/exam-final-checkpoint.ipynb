{
 "cells": [
  {
   "cell_type": "markdown",
   "metadata": {},
   "source": [
    "# 2017년 2학기 디자인팬턴설계 기말고사\n",
    "\n",
    "* 이름:\n",
    "\n",
    "* 학번:"
   ]
  },
  {
   "cell_type": "markdown",
   "metadata": {},
   "source": [
    "# 문제 1\n",
    "\n",
    "아래 그림은 input 태그의 onclick 속성에 JS의 alert 함수를 삽입하여 활용하는 예제를 보여준다. \n",
    "작동방식을 설명하라.\n",
    "<p>\n",
    "<table cellspacing=\"20\">\n",
    "<tr>\n",
    "<td>\n",
    "<img src=\"../summary/images/internet-web117.png\", width=500>\n",
    "</td>\n",
    "</tr>\n",
    "</table>\n",
    "</p>"
   ]
  },
  {
   "cell_type": "markdown",
   "metadata": {},
   "source": [
    "<br>\n",
    "<br>\n",
    "<br>\n",
    "<br>"
   ]
  },
  {
   "cell_type": "markdown",
   "metadata": {},
   "source": [
    "# 문제 2\n",
    "\n",
    "* 아래 그림은 class 속성의 활용 예제를 보여준다. 작동 방식을 설명하라.\n",
    "\n",
    "<p>\n",
    "<table cellspacing=\"20\">\n",
    "<tr>\n",
    "<td>\n",
    "<img src=\"../summary/images/internet-web123.png\", width=500>\n",
    "</td>\n",
    "</tr>\n",
    "</table>\n",
    "</p>"
   ]
  },
  {
   "cell_type": "markdown",
   "metadata": {},
   "source": [
    "# 문제 3\n",
    "\n",
    "아래 소스코드는 JavaScript가 동적으로 CSS 설정을 바꾸는 것을 보여주는 예제 코드이다.\n",
    "구체적으로 무슨 일을 하는지 설명하라.\n",
    "```html\n",
    "<!DOCTYPE html>\n",
    "<html>\n",
    "<head>\n",
    "     <meta charset=\"utf-8\">\n",
    "   <style>\n",
    "     .em{\n",
    "       text-decoration:underline;\n",
    "     }\n",
    "   </style>\n",
    "</head>\n",
    "<body>\n",
    "  <ol id=\"target\">\n",
    "    <li>html</li>\n",
    "    <li>css</li>\n",
    "    <li>javascript</li>\n",
    "  </ol>\n",
    "  <ul>\n",
    "    <li>최진혁</li>\n",
    "    <li>최유빈</li>\n",
    "    <li>한이람</li>\n",
    "    <li>한이은</li>\n",
    "  </ul>\n",
    "  <input type=\"button\" value=\"강조\" onclick=\"document.getElementById('target').className='em'\" />\n",
    "</body>\n",
    "</html>\n",
    "```"
   ]
  },
  {
   "cell_type": "markdown",
   "metadata": {},
   "source": [
    "<br>\n",
    "<br>\n",
    "<br>\n",
    "<br>\n",
    "<br>\n",
    "<br>\n",
    "<br>\n",
    "<br>"
   ]
  },
  {
   "cell_type": "markdown",
   "metadata": {},
   "source": [
    "# 문제 4\n",
    "\n",
    "아래 두개의 그림은 white와 black 버튼을 누를 때 배경화면을 각각 흰색과 검은색으로 변경되도록 하는 과정을 보여준다.\n",
    "코드에서 중요 요소가 무엇인지 설명하라.\n",
    "\n",
    "<p>\n",
    "<table cellspacing=\"20\">\n",
    "<tr>\n",
    "<td>\n",
    "<img src=\"../summary/images/internet-web136.png\", width=500>\n",
    "</td>\n",
    "</tr>\n",
    "</table>\n",
    "</p>        \n",
    "<p>\n",
    "<table cellspacing=\"20\">\n",
    "<tr>\n",
    "<td>\n",
    "<img src=\"../summary/images/internet-web137.png\", width=500>\n",
    "</td>\n",
    "</tr>\n",
    "</table>\n",
    "</p>"
   ]
  },
  {
   "cell_type": "markdown",
   "metadata": {},
   "source": [
    "# 문제 5\n",
    "\n",
    "문제 4를  MVC 패턴 관점에서 설명하라.\n",
    "\n",
    "#### 주의\n",
    "\n",
    "MVC 패턴은 프로그램을 모델, 뷰, 컨트롤러의 세 요소로 구성되도록 구현하는 방식을 의미한다.\n",
    "    * 모델(Model): 주시 대상\n",
    "    * 뷰(View): 주시 대상 자체와 주시 대상이 작동하는 방식을 보여주는 사용자 인터페이스(UI)\n",
    "    * 컨트롤러(Controller): 모델을 조작해서 뷰를 통해 사용자에게 보여주도록 하는 기능\n",
    "<p>\n",
    "<table cellspacing=\"20\">\n",
    "<tr>\n",
    "<td>\n",
    "<img src=\"https://s3.ap-northeast-2.amazonaws.com/opentutorials-user-file/module/327/1262.png\", width=200>\n",
    "</td>\n",
    "</tr>\n",
    "</table>\n",
    "</p>        "
   ]
  },
  {
   "cell_type": "markdown",
   "metadata": {},
   "source": [
    "<br>\n",
    "<br>\n",
    "<br>\n",
    "<br>\n",
    "<br>\n",
    "<br>"
   ]
  },
  {
   "cell_type": "markdown",
   "metadata": {},
   "source": [
    "# 문제 6\n",
    "\n",
    "HTML, CSS, JS가 서로 어떤 식으로 도움을 주는지 간략하게 설명하라.\n",
    "\n",
    "힌트: 문제 4와 문제 5 참조"
   ]
  },
  {
   "cell_type": "markdown",
   "metadata": {},
   "source": [
    "# 문제 7\n",
    "\n",
    "<그림 A>는 중간고사 이전까지 구현된 웹사이트의 구조는 다음과 같다.\n",
    "\n",
    "<p>\n",
    "<table cellspacing=\"20\">\n",
    "<caption><그림 A></caption>\n",
    "<tr>\n",
    "<td>\n",
    "<img src=\"../summary/images/internet-web144.png\", width=500>\n",
    "</td>\n",
    "</tr>\n",
    "</table>\n",
    "</p>\n",
    "<그림 B>는이전의 웹사이트를 PHP 기능을 추가하여 개선된 웹사이트의 코드를 보여준다.\n",
    "<p>\n",
    "<table cellspacing=\"20\">\n",
    "<caption><그림 B></caption>\n",
    "<tr>\n",
    "<td>\n",
    "<img src=\"../summary/images/internet-web149.png\", width=500>\n",
    "</td>\n",
    "</tr>\n",
    "</table>\n",
    "</p>\n",
    "개선된 웹사이트의 작동구조를 <그림 A>처럼 설명하라."
   ]
  },
  {
   "cell_type": "markdown",
   "metadata": {},
   "source": [
    "# 문제 8\n",
    "\n",
    "아래 그림을 보고 PHP 입장에서 서버와 클라이언트의 관계를 설명하라.\n",
    "<p>\n",
    "<table cellspacing=\"20\">\n",
    "<tr>\n",
    "<td>\n",
    "<img src=\"../summary/images/internet-web190.png\", width=500>\n",
    "</td>\n",
    "</tr>\n",
    "</table>\n",
    "</p>"
   ]
  },
  {
   "cell_type": "markdown",
   "metadata": {},
   "source": [
    "<br>\n",
    "<br>"
   ]
  },
  {
   "cell_type": "markdown",
   "metadata": {},
   "source": [
    "# 문제 9\n",
    "\n",
    "앞서 문제 7에서 파일에 저장된 정보를 불러오는 방식으로 PHP 웹사이트를 구현하였다.\n",
    "이제 아래 그림에서처럼 정보를 DB에 저장하는 방식으로 구현하기 위해 파일 대신에 MySQL 서버에 저장된 정보를 불러오는 방식으로 웹사이트를 구현하고자 한다.\n",
    "<p>\n",
    "<table cellspacing=\"20\">\n",
    "<tr>\n",
    "<td>\n",
    "<img src=\"../summary/images/internet-web150.png\", width=500>\n",
    "</td>\n",
    "</tr>\n",
    "</table>\n",
    "</p>\n",
    "위 그림에서처럼 웹사이트를 구현하기 위해서는 index.php 파일을 수정해야 하며, \n",
    "아래 코드들은 추가되어야 하는 코드들이다. \n",
    "* 코드 1\n",
    "```html\n",
    "<?php\n",
    "    $conn = mysqli_connect(\"localhost\", \"root\", 111111);\n",
    "  mysqli_select_db($conn, \"opentutorials\");\n",
    "    $result = mysqli_query($conn, \"SELECT * FROM topic\");\n",
    "?>\n",
    "```\n",
    "* 코드 2\n",
    "```html\n",
    "<nav>\n",
    " <ol>\n",
    "  <?php\n",
    "   while($row = mysqli_fetch_assoc($result)) {\n",
    "     echo '<li><a href=\"http://localhost/index.php?id='.$row['id'].'\">'.$row['title'].'</a></li>'.\"\\n\";\n",
    "   }\n",
    "  ?>\n",
    " </ol>\n",
    "</nav>\n",
    "```\n",
    "* 코드 3\n",
    "```html\n",
    "<article>\n",
    "    <?php\n",
    "        if(empty($_GET['id']) === false ) {\n",
    "            $sql = 'SELECT * FROM topic WHERE id='.$_GET['id'];\n",
    "            $result = mysqli_query($conn, $sql);\n",
    "            $row = mysqli_fetch_assoc($result);\n",
    "            echo '<h2>'.$row['title'].'</h2>';\n",
    "            echo $row['description'];\n",
    "        }\n",
    "    ?>\n",
    "</article>\n",
    "```\n",
    "\n",
    "코드 1, 코드 2, 코드 3이 수행하는 역할을 설명하라."
   ]
  }
 ],
 "metadata": {
  "kernelspec": {
   "display_name": "Python 2",
   "language": "python",
   "name": "python2"
  },
  "language_info": {
   "codemirror_mode": {
    "name": "ipython",
    "version": 2
   },
   "file_extension": ".py",
   "mimetype": "text/x-python",
   "name": "python",
   "nbconvert_exporter": "python",
   "pygments_lexer": "ipython2",
   "version": "2.7.13"
  }
 },
 "nbformat": 4,
 "nbformat_minor": 2
}
