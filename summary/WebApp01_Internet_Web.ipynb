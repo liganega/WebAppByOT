{
 "cells": [
  {
   "cell_type": "markdown",
   "metadata": {},
   "source": [
    "# 인터넷과 웹의 차이\n",
    "\n",
    "* 인터넷: \n",
    "    * 1960년대 등장\n",
    "    * 전 세계 컴퓨터들을 연결하는 네트워크\n",
    "    * 자료 공유 가능\n",
    "    * 인터넷 상에 웹, ftp, 이메일 등이 돌아감\n",
    "    \n",
    "* 웹: 컴퓨터가 html로 작성된 정보를 주고 받도록 고안된 시스템\n",
    "    * 1990년에 등장\n",
    "    * 창시자: 팀 버너스리\n",
    "        * 웹브라우저와 서버 모두 개발\n",
    "\n",
    "<p>\n",
    "<table cellspacing=\"20\">\n",
    "<tr>\n",
    "<td>\n",
    "<img src=\"images/internet-web01.png\", width=600>\n",
    "</td>\n",
    "</tr>\n",
    "</table>\n",
    "</p>\n",
    "\n",
    "<p>\n",
    "<table>\n",
    "<tr>\n",
    "<td>\n",
    "<img src=\"images/internet-web02.png\", width=600>\n",
    "</td>\n",
    "</tr>\n",
    "</table>\n",
    "</p>"
   ]
  }
 ],
 "metadata": {
  "kernelspec": {
   "display_name": "Python 2",
   "language": "python",
   "name": "python2"
  },
  "language_info": {
   "codemirror_mode": {
    "name": "ipython",
    "version": 2
   },
   "file_extension": ".py",
   "mimetype": "text/x-python",
   "name": "python",
   "nbconvert_exporter": "python",
   "pygments_lexer": "ipython2",
   "version": "2.7.13"
  }
 },
 "nbformat": 4,
 "nbformat_minor": 2
}
