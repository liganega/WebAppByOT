{
 "cells": [
  {
   "cell_type": "markdown",
   "metadata": {},
   "source": [
    "# 2017년 2학기 디자인팬턴 설계 중간고사\n",
    "\n",
    "* 이름:\n",
    "\n",
    "* 학번:"
   ]
  },
  {
   "cell_type": "markdown",
   "metadata": {},
   "source": [
    "# 문제\n",
    "\n",
    "인터넷 상에 존재하는 게임, 모바일 앱 등은 클라이언트와 서버의 관계를 활용하여 동작한다. 아래 그림을 이용하여 서버와 클라이언트의 관계를 간략하게 설명하라.\n",
    "\n",
    "<p>\n",
    "<table cellspacing=\"20\">\n",
    "<tr>\n",
    "<td>\n",
    "<img src=\"images/internet-web04.png\", width=300>\n",
    "</td>\n",
    "</tr>\n",
    "</table>\n",
    "</p>"
   ]
  },
  {
   "cell_type": "markdown",
   "metadata": {},
   "source": [
    "```\n",
    "\n",
    "\n",
    ".\n",
    "```"
   ]
  },
  {
   "cell_type": "markdown",
   "metadata": {},
   "source": [
    "# 문제\n",
    "\n",
    "아래 언급된 태그들을 레벨 순서대로 나열하라.\n",
    "(주의: 바깥에 위치한 태그일 수록 레벨이 높다고 말하며, 동급의 태그들이 존재한다.)\n",
    "\n",
    "* body 태그\n",
    "* head 태그\n",
    "* html 태그\n",
    "* ul 태그\n",
    "* ol 태그\n",
    "* li 태그\n",
    "* a 태그"
   ]
  },
  {
   "cell_type": "markdown",
   "metadata": {},
   "source": [
    "```\n",
    "```"
   ]
  },
  {
   "cell_type": "markdown",
   "metadata": {},
   "source": [
    "# 문제\n",
    "\n",
    "사람 뿐만 아니라 웹브라우저 등의 기계에도 정보를 보다 더 잘 전달하기 위한 태그들을 잘 활용하여 구현된 웹을 semantic web(의미가 잘 드러나는 웹)이라 부른다. 아래 태그 중에서 semantic web 용도로 사용 가능한 태그를 모두 고른 후 각각의 용도를 간략하게 설명하라.\n",
    "\n",
    "* body 태그\n",
    "* nav 태그\n",
    "* head 태그\n",
    "* header 태그\n",
    "* html 태그\n",
    "* article 태그\n",
    "* style 태그"
   ]
  },
  {
   "cell_type": "markdown",
   "metadata": {},
   "source": [
    "```\n",
    "\n",
    "\n",
    "\n",
    "\n",
    "\n",
    "\n",
    "\n",
    ".\n",
    "```"
   ]
  },
  {
   "cell_type": "markdown",
   "metadata": {},
   "source": [
    "# 문제\n",
    "\n",
    "CSS는 태그 정보를 이용하여 html에서 전달하는 내용을 꾸며주며, 선택자와 서술의 쌍들의 집합으로 이루어진다.\n",
    "예를 들어, 아래 코드는 h1 태그로 감싸인 부분을 10픽셀 크기의 빨강색 글자로 표시하라는 명령어이다.\n",
    "\n",
    "    h1 {color:red; font-size:10px}\n",
    "\n",
    "이제 t1, t2 두 개의 태그가 있다고 가정하자. \n",
    "아래 두 코드의 차이점을 설명하라.\n",
    "\n",
    "* `t1 t2 {color:red; font-size:10px}`\n",
    "* `t1, t2 {color:red; font-size:10px}`"
   ]
  },
  {
   "cell_type": "markdown",
   "metadata": {},
   "source": [
    "```\n",
    "\n",
    "\n",
    "\n",
    ".\n",
    "```"
   ]
  },
  {
   "cell_type": "markdown",
   "metadata": {},
   "source": [
    "# 문제\n",
    "\n",
    "index.html 페이지를 아래 모양으로 스타일을 꾸미고자 한다.\n",
    "어떻게 코드를 변경할지 간략하게 설명하라.\n",
    "(힌트: semantic web에 사용되는 태그들을 중심으로 설명한다.)\n",
    "\n",
    "<p>\n",
    "<table cellspacing=\"20\">\n",
    "<tr>\n",
    "<td>\n",
    "<img src=\"images/internet-web40.png\", width=300>\n",
    "</td>\n",
    "</tr>\n",
    "</table>\n",
    "</p>    \n"
   ]
  },
  {
   "cell_type": "markdown",
   "metadata": {},
   "source": [
    "```\n",
    "\n",
    "\n",
    "\n",
    "\n",
    "\n",
    ".\n",
    "```"
   ]
  },
  {
   "cell_type": "markdown",
   "metadata": {},
   "source": [
    "# 문제\n",
    "\n",
    "아래 그림이 설명하고자 하는 디자인패턴 원칙을 설명하라.\n",
    "\n",
    "<p>\n",
    "<table cellspacing=\"20\">\n",
    "<tr>\n",
    "<td>\n",
    "<img src=\"images/internet-web53.png\", width=300>\n",
    "</td>\n",
    "<td>\n",
    "<img src=\"images/internet-web54.png\", width=300>\n",
    "</td>\n",
    "</tr>\n",
    "</table>\n",
    "</p>    "
   ]
  },
  {
   "cell_type": "markdown",
   "metadata": {},
   "source": [
    "```\n",
    "\n",
    "\n",
    "\n",
    "\n",
    ".\n",
    "```"
   ]
  },
  {
   "cell_type": "markdown",
   "metadata": {},
   "source": [
    "# 문제\n",
    "    \n",
    "아래 그림은 웹프로그래밍에 사용되는 주요 언어들을 언급하고 있다.\n",
    "각 언어의 연관성과 필요성을 간략하게 설명하라.\n",
    "    \n",
    "<p>\n",
    "<table cellspacing=\"20\">\n",
    "<tr>\n",
    "<td>\n",
    "<img src=\"images/internet-web55.png\", width=300>\n",
    "</td>\n",
    "</tr>\n",
    "</table>\n",
    "</p>"
   ]
  },
  {
   "cell_type": "markdown",
   "metadata": {},
   "source": [
    "```\n",
    "\n",
    "\n",
    "\n",
    "\n",
    "\n",
    "\n",
    ".\n",
    "```"
   ]
  },
  {
   "cell_type": "markdown",
   "metadata": {},
   "source": [
    "# 문제\n",
    "\n",
    "자바스크립트와 PHP에 대한 설명 중에서 옳은 것을 모두 골라라.\n",
    "\n",
    "* 두 언어는 동적으로 웹페이지의 내용과 모양을 변경시킬 수 있는 기능을 갖고 있다.\n",
    "* 두 언어 모두 클라이언트 쪽에서 작동한다.\n",
    "* PHP는 웹서버 쪽에서만 작동하는 소프트웨어이다.\n",
    "* 두 언어는 서로 경쟁적이며 서로 어떠한 협력도 하지 않는다.\n",
    "* 자바스크립트는 동적으로 웹페이지의 모양을 변경시킬 수 있다.\n",
    "* PHP는 다량의 웹페이지를 생성 및 관리하는 데에 용이한 프로그래밍언어이다."
   ]
  },
  {
   "cell_type": "markdown",
   "metadata": {},
   "source": [
    "```\n",
    "\n",
    "```"
   ]
  },
  {
   "cell_type": "markdown",
   "metadata": {},
   "source": [
    "# 문제\n",
    "\n",
    "아래 두 그림을 보고 자바스크립트와 PHP에서 사용되는 특정 연산자의 차이점을 설명하라.\n",
    "\n",
    "<p>\n",
    "<table cellspacing=\"20\">\n",
    "<tr>\n",
    "<td>\n",
    "<img src=\"images/internet-web70.png\", width=300>\n",
    "</td>\n",
    "<td>\n",
    "<img src=\"images/internet-web71.png\", width=300>\n",
    "</td>\n",
    "</tr>\n",
    "</table>\n",
    "</p>    "
   ]
  },
  {
   "cell_type": "markdown",
   "metadata": {},
   "source": [
    "```\n",
    "\n",
    "\n",
    "\n",
    "\n",
    "\n",
    ".\n",
    "```"
   ]
  },
  {
   "cell_type": "markdown",
   "metadata": {},
   "source": [
    "# 문제\n",
    "\n",
    "아래 두 그림은 각각 8-1.php 파일과 8-2.php 파일을 작동하는 방식을 보여준다.\n",
    "두 파일이 어떻게 연합해서 작동하는지 간략하게 설명하라.\n",
    "\n",
    "<p>\n",
    "<table cellspacing=\"20\">\n",
    "<tr>\n",
    "<td>\n",
    "<img src=\"images/internet-web94.png\", width=300>\n",
    "</td>\n",
    "<td>\n",
    "<img src=\"images/internet-web100.png\", width=300>\n",
    "</td>\n",
    "</tr>\n",
    "</table>\n",
    "</p>    "
   ]
  }
 ],
 "metadata": {
  "kernelspec": {
   "display_name": "Python 2",
   "language": "python",
   "name": "python2"
  },
  "language_info": {
   "codemirror_mode": {
    "name": "ipython",
    "version": 2
   },
   "file_extension": ".py",
   "mimetype": "text/x-python",
   "name": "python",
   "nbconvert_exporter": "python",
   "pygments_lexer": "ipython2",
   "version": "2.7.13"
  }
 },
 "nbformat": 4,
 "nbformat_minor": 2
}
