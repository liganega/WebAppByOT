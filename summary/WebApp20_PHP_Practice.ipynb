{
 "cells": [
  {
   "cell_type": "markdown",
   "metadata": {},
   "source": [
    "# PHP 실습"
   ]
  },
  {
   "cell_type": "markdown",
   "metadata": {},
   "source": [
    "참조 사이트: https://opentutorials.org/course/1688/9383"
   ]
  },
  {
   "cell_type": "markdown",
   "metadata": {},
   "source": [
    "## 실습 1: 주요 예제 소개\n",
    "\n",
    "* 기존에 구현된 웹서버\n",
    "    * 현재 4개의 웹페이지에 해당하는 4개의 HTML 파일이 요구됨.\n",
    "    * 웹페이지 상에서 조금이라도 수정사항이 발생하면 모든 파일에서 파일을 수정해야함.\n",
    "    * 즉, 중복이 발생하며, 웹페이지 수가 커질 경우 현실적으로 수정이 불가능할 수도 있음.\n",
    "\n",
    "<p>\n",
    "<table cellspacing=\"20\">\n",
    "<tr>\n",
    "<td>\n",
    "<img src=\"images/internet-web144.png\", width=600>\n",
    "</td>\n",
    "</tr>\n",
    "</table>\n",
    "</p>"
   ]
  },
  {
   "cell_type": "markdown",
   "metadata": {},
   "source": [
    "* 대안: HTML과 정보를 분리\n",
    "    * 각각의 웹페이지에 포함되어야 하는 정보를 각각 독립된 파일로 저장\n",
    "    * 동일한 형식의 HTML 코드는 하나의 독립된 PHP 파일로 저장.\n",
    "        * 위 그림에서 index.html, page_html.html, page_vc.html, page_op.html은\n",
    "            모두 동일한 형식을 가진 웹페이지 들이며, article 태그에 포함된 내용만 서로 다르다.\n",
    "* 예제: 아래 그림에서 index.php 파일은 네 개의 웹페이지가 공유하는 양식을 HTML로 구현한 코드를 담고 있으며, \n",
    "    page_html.html, page_vc.html, page_op.html 각각의 웹페이지에 포함되어야 하는 서로 다른 정보는\n",
    "    각각 1.txt, 2.txt, 3.txt로 분리해서 저장한다.\n",
    "\n",
    "<p>\n",
    "<table cellspacing=\"20\">\n",
    "<tr>\n",
    "<td>\n",
    "<img src=\"images/internet-web145a.png\", width=600>\n",
    "</td>\n",
    "</tr>\n",
    "</table>\n",
    "</p>"
   ]
  },
  {
   "cell_type": "markdown",
   "metadata": {},
   "source": [
    "* 이제 index.php 페이지에서 nav 태그에 포함된 항목, 예를 들어, \"자바스크립트란?\" 항목을 클릭하면 1.txt 파일의 내용이 article 태그로 감싸인 부분에 추가되어 웹브라우저를 통해 사용자에게 보여지게 된다.\n",
    "\n",
    "<p>\n",
    "<table cellspacing=\"20\">\n",
    "<tr>\n",
    "<td>\n",
    "<img src=\"images/internet-web145.png\", width=600>\n",
    "</td>\n",
    "</tr>\n",
    "</table>\n",
    "</p>\n",
    "\n",
    "<p>\n",
    "<table cellspacing=\"20\">\n",
    "<tr>\n",
    "<td>\n",
    "<img src=\"images/internet-web146.png\", width=600>\n",
    "</td>\n",
    "</tr>\n",
    "</table>\n",
    "</p>"
   ]
  },
  {
   "cell_type": "markdown",
   "metadata": {},
   "source": [
    "* 최종적으로 아래 모양의 코드를 구현하고자 함.\n",
    "    * 어느 웹페이지를 눌러도 웹페이지의 주소는 index.php가 유지됨.\n",
    "    * nav 태그로 감싸인 부분, 즉, 글 목록 리스트는 list.txt 파일에 저장됨\n",
    "    * \"자바스크립트란?\", \"변수와 상수\", \"연산자\"를 소개하는 정보, 즉, 각각의 웹페이지에서 article 태그로\n",
    "        감싸이는 부분의 내용(정보)은 각각 1.txt, 2.txt, 3.txt 파일로 저장됨.\n",
    "\n",
    "<p>\n",
    "<table cellspacing=\"20\">\n",
    "<tr>\n",
    "<td>\n",
    "<img src=\"images/internet-web148.png\", width=600>\n",
    "</td>\n",
    "</tr>\n",
    "</table>\n",
    "</p>"
   ]
  },
  {
   "cell_type": "markdown",
   "metadata": {},
   "source": [
    "* index.php, list.txt, 1.txt, 2.txt, 3.txt 파일과 각각의 파일을 불러오는 PHP 명령어는 \n",
    "    아래 그림에서 확인할 수 있다.\n",
    "\n",
    "<p>\n",
    "<table cellspacing=\"20\">\n",
    "<tr>\n",
    "<td>\n",
    "<img src=\"images/internet-web149.png\", width=600>\n",
    "</td>\n",
    "</tr>\n",
    "</table>\n",
    "</p>"
   ]
  },
  {
   "cell_type": "markdown",
   "metadata": {},
   "source": [
    "* 결론: 위와 같이 하면 index.php 파일에는 어떠한 구체적인 정보도 담고 있지 않으며, 대신에\n",
    "    순수 HTML 코드와 필요한 정보를 불러오는 PHP 코드만이 포함되게 된다.    "
   ]
  },
  {
   "cell_type": "markdown",
   "metadata": {},
   "source": [
    "## 주요 내용\n",
    "\n",
    "* PHP가 작동하는 기본 방식 이해\n",
    "* HTML 코드 안에 포함된 정보를 파일로 저장.\n",
    "* PHP 명령어를 이용하여 파일에 저장된 내용을 불러오는 기능 이해\n",
    "\n",
    "<p>\n",
    "<table cellspacing=\"20\">\n",
    "<tr>\n",
    "<td>\n",
    "<img src=\"images/internet-web147.png\", width=600>\n",
    "</td>\n",
    "</tr>\n",
    "</table>\n",
    "</p>"
   ]
  },
  {
   "cell_type": "markdown",
   "metadata": {},
   "source": [
    "## <a id=\"php_pr2\"></a>실습 2\n",
    "\n",
    "주요 내용\n",
    "\n",
    "1. `$_GET` 이해하기\n",
    "    * 일종의 배열이며, 엄밀하게는 연관배열(associative array)이다. \n",
    "    연관배열은 파이썬의 사전(dictionary, 해시) 자료형에 해당한다.\n",
    "    * 웹페이지 주소인 URL에 물음표(`?`) 다음에 사용되는 각각의 매개변수들과 그 매개변수에 할당된 값의 쌍들을\n",
    "    항목으로 갖는다.\n",
    "1. `file_get_contents` 함수 이해하기\n",
    "    * 텍스트 파일에 저장된 내용을 통째로 불러오기    "
   ]
  },
  {
   "cell_type": "markdown",
   "metadata": {},
   "source": [
    "### `$_GET` 이해하기"
   ]
  },
  {
   "cell_type": "markdown",
   "metadata": {},
   "source": [
    "#### 예제\n",
    "\n",
    "* 아래 그림에서 `$_GET['id']`는 `id`라는 매개변수에 할당된 값을 리턴한다. \n",
    "* 따라서 `localhost/php/1.php?id=1`에 해당하는 웹페이지를 열면 id에 할당된 값인 1이 보여지게 된다.\n",
    "    \n",
    "<p>\n",
    "<table cellspacing=\"20\">\n",
    "<tr>\n",
    "<td>\n",
    "<img src=\"images/internet-web151.png\", width=600>\n",
    "</td>\n",
    "</tr>\n",
    "</table>\n",
    "</p>    "
   ]
  },
  {
   "cell_type": "markdown",
   "metadata": {},
   "source": [
    "####  예제\n",
    "\n",
    "* 매개변수의 이름은 임의로 지정 가능하다.\n",
    "* 아래 그림에서 `$_GET['name']`는 `name`이라는 매개변수에 할당된 값을 리턴한다. \n",
    "    \n",
    "<p>\n",
    "<table cellspacing=\"20\">\n",
    "<tr>\n",
    "<td>\n",
    "<img src=\"images/internet-web152.png\", width=600>\n",
    "</td>\n",
    "</tr>\n",
    "</table>\n",
    "</p>    "
   ]
  },
  {
   "cell_type": "markdown",
   "metadata": {},
   "source": [
    "####  예제\n",
    "\n",
    "* 매개변수 여러 개를 불러올 수도 있다.\n",
    "* 아래 그림에서 `id`와 `name` 두 개의 매개변수에 할당된 값을 가져오는 것을 보여준다.\n",
    "* 주의\n",
    "    * URL에서 각각의 매개변수는 `&`(그리고 기호)로 구분된다.\n",
    "    * PHP에서 문자열의 합은 점(`.`) 연산자를 활용한다.\n",
    "    \n",
    "<p>\n",
    "<table cellspacing=\"20\">\n",
    "<tr>\n",
    "<td>\n",
    "<img src=\"images/internet-web153.png\", width=600>\n",
    "</td>\n",
    "</tr>\n",
    "</table>\n",
    "</p>    "
   ]
  },
  {
   "cell_type": "markdown",
   "metadata": {},
   "source": [
    "### <a id=\"php_pr3_file\"></a>`file_get_contents` 함수 이해하기"
   ]
  },
  {
   "cell_type": "markdown",
   "metadata": {},
   "source": [
    "####  예제\n",
    "\n",
    "* 예를 들어,`file_get_contents(\"1.txt\")`는 1.txt 파일에 저장된 내용을 통째로 불러와 리턴한다.\n",
    "* 리턴값의 자료형은 문자열이다.\n",
    "    \n",
    "<p>\n",
    "<table cellspacing=\"20\">\n",
    "<tr>\n",
    "<td>\n",
    "<img src=\"images/internet-web154.png\", width=600>\n",
    "</td>\n",
    "</tr>\n",
    "</table>\n",
    "</p>    "
   ]
  },
  {
   "cell_type": "markdown",
   "metadata": {},
   "source": [
    "####  예제\n",
    "\n",
    "* `file_get_contents` 함수와 `$_GET` 연관배열을 연동하면 URL에 사용되는 매겨변수에 따라 \n",
    "    다른 파일의 내용을 동적으로 불러올 수 있다. \n",
    "* 예를 들어, `file_get_contents($_GET['id'].\".txt\")`라 하면 URL에 사용되는 id 매개변수에\n",
    "    할당된 값에 따라 지정된 파일의 내용을 불러온다.\n",
    "* 아래 그림은 URL에 id=1로 지정되었기에 1.txt 파일의 내용을 불러온다.\n",
    "    만약에 id=2로 지정되었다면 2.txt 파일을 불러올 것이다.\n",
    "    \n",
    "<p>\n",
    "<table cellspacing=\"20\">\n",
    "<tr>\n",
    "<td>\n",
    "<img src=\"images/internet-web155.png\", width=600>\n",
    "</td>\n",
    "</tr>\n",
    "</table>\n",
    "</p>    "
   ]
  },
  {
   "cell_type": "markdown",
   "metadata": {},
   "source": [
    "## 실습 3\n",
    "\n",
    "주요 내용: nav 태그로 감싸이는 정보 구분하기"
   ]
  },
  {
   "cell_type": "markdown",
   "metadata": {},
   "source": [
    "* 과목들의 목록은 nav 태그로 감싸이는 부분에 포함되는 정보이다.\n",
    "    \n",
    "<p>\n",
    "<table cellspacing=\"20\">\n",
    "<tr>\n",
    "<td>\n",
    "<img src=\"images/internet-web156.png\", width=600>\n",
    "</td>\n",
    "</tr>\n",
    "</table>\n",
    "</p>"
   ]
  },
  {
   "cell_type": "markdown",
   "metadata": {},
   "source": [
    "* 이 부분은 list.txt 파일에 저장한 후에, 해당 파일을 불러오는 PHP 코드를 원래 위치에 삽입한다.\n",
    "\n",
    "<p>\n",
    "<table cellspacing=\"20\">\n",
    "<tr>\n",
    "<td>\n",
    "<img src=\"images/internet-web158.png\", width=600>\n",
    "</td>\n",
    "</tr>\n",
    "</table>\n",
    "</p>\n",
    "\n",
    "<p>\n",
    "<table cellspacing=\"20\">\n",
    "<tr>\n",
    "<td>\n",
    "<img src=\"images/internet-web159.png\", width=600>\n",
    "</td>\n",
    "</tr>\n",
    "</table>\n",
    "</p>"
   ]
  },
  {
   "cell_type": "markdown",
   "metadata": {},
   "source": [
    "* 이제 과목을 추가하고자 할 경우 list.txt 파일에 과목 정보를 추가하면 된다. \n",
    "    아래 그림은 \"조건문\" 항목을 list.txt 파일에 추가한 결과를 보여준다.\n",
    "<p>\n",
    "<table cellspacing=\"20\">\n",
    "<tr>\n",
    "<td>\n",
    "<img src=\"images/internet-web160.png\", width=600>\n",
    "</td>\n",
    "</tr>\n",
    "</table>\n",
    "</p>"
   ]
  },
  {
   "cell_type": "markdown",
   "metadata": {},
   "source": [
    "* 반면에 index.php 파일은 전혀 수정할 필요가 없다.\n",
    "<p>\n",
    "<table cellspacing=\"20\">\n",
    "<tr>\n",
    "<td>\n",
    "<img src=\"images/internet-web161.png\", width=600>\n",
    "</td>\n",
    "</tr>\n",
    "</table>\n",
    "</p>"
   ]
  },
  {
   "cell_type": "markdown",
   "metadata": {},
   "source": [
    "#### article 태그로 감싸이는 정보\n",
    "\n",
    "* 각 과목별로 내용을 전달되는 내용(정보)은 article 태그로 감싸인다.\n",
    "    \n",
    "<p>\n",
    "<table cellspacing=\"20\">\n",
    "<tr>\n",
    "<td>\n",
    "<img src=\"images/internet-web157.png\", width=600>\n",
    "</td>\n",
    "</tr>\n",
    "</table>\n",
    "</p>    "
   ]
  },
  {
   "cell_type": "markdown",
   "metadata": {},
   "source": [
    "## 실습 4\n",
    "\n",
    "주요 내용: article 태그로 감싸이는 정보 구분하기"
   ]
  },
  {
   "cell_type": "markdown",
   "metadata": {},
   "source": [
    "### list.txt 에 사용된 링크 정보 수정하기\n",
    "\n",
    "* [실습 2](#php_pr2)에서 다룬 `file_get_contents` 함수와 `$_GET` 배열을 활용하고자 한다.\n",
    "* 그러기 위해서는 먼저 list.txt 파일에서 사용된 이전 방식의 링크주소를 `id`라는 URL 매개변수를 이용하는 방식으로 변경해야 한다.\n",
    "\n",
    "<p>\n",
    "<table cellspacing=\"20\">\n",
    "<tr>\n",
    "<td>\n",
    "<img src=\"images/internet-web162.png\", width=600>\n",
    "</td>\n",
    "</tr>\n",
    "</table>\n",
    "</p>    "
   ]
  },
  {
   "cell_type": "markdown",
   "metadata": {},
   "source": [
    "### 과목 별 파일 생성\n",
    "\n",
    "* 과목 별 내용을 담는 1.txt, 2.txt, 3.txt 파일을 생성한다.\n",
    "* 이후에 article 태그 부분을 실습 2에서 다룬 `file_get_contents` 함수와 \n",
    "    `$_GET` 배열을 활용하는 PHP 코드로 수정한다.\n",
    "```\n",
    "echo file_get_contents($_GET['id'].\".txt\");\n",
    "```\n",
    "* 아래 그림은 \"JavaScript란?\" 항목을 클릭했을 때의 결과를 보여준다.\n",
    "\n",
    "<p>\n",
    "<table cellspacing=\"20\">\n",
    "<tr>\n",
    "<td>\n",
    "<img src=\"images/internet-web163.png\", width=600>\n",
    "</td>\n",
    "</tr>\n",
    "</table>\n",
    "</p>    "
   ]
  },
  {
   "cell_type": "markdown",
   "metadata": {},
   "source": [
    "### 헤더(header) 태그 링크 수정\n",
    "\n",
    "* header 태그로 감싸인 \"JavaScrip\"에 걸린 링크를 index.php 파일로 수정.\n",
    "* 즉, 메인화면 링크를 걸어줌.\n",
    "* 그런데 메인 화면의 경우에는 URL에 id 매개변수가 존재하지 않으며, `$_GET['id]`가 오류를 발생시킨다.\n",
    "* 따라서 article 태그로 감싸인 부분에 `if`문을 써서 `$_GET['id]` 가 널값이 아닌 경우에만 실행이 되도록 해야 한다.\n",
    "* `empty` 라는 입력값이 널값이면 true를 리턴하는 함수를 활용한다.\n",
    "* 아래 코드가 널값이 아닌지 여부를 판단한다.\n",
    "```php\n",
    "if (empty($_GET['id']) == false)\n",
    "```\n",
    "<p>\n",
    "<table cellspacing=\"20\">\n",
    "<tr>\n",
    "<td>\n",
    "<img src=\"images/internet-web164.png\", width=600>\n",
    "</td>\n",
    "</tr>\n",
    "</table>\n",
    "</p>    \n",
    "* `if (empty($_GET['id]) == false)` 대신에 아래 코드를 사용해도 된다:\n",
    "\n",
    "```php\n",
    "if (!empty($_GET['id']))\n",
    "```"
   ]
  },
  {
   "cell_type": "markdown",
   "metadata": {},
   "source": [
    "### 추가 예제: 헤더(header)에 이미지 추가하기\n",
    "\n",
    "* index.php 파일의 header 태그 부분을 수정하면 이제는 모든 웹페이지 상에서 이미지가 추가된다.\n",
    "* 지금까지 html과 정보 부분을 분리하였기 때문에 가능하다.\n",
    "* 즉, 중북을 제거했을 때 얻을 수 있는 장점 중의 하나임."
   ]
  },
  {
   "cell_type": "markdown",
   "metadata": {},
   "source": [
    "* 먼저, 이미지 파일의 링크를 header 부분에 아래 HTML 코드를 추가한다.\n",
    "```html\n",
    "<img src=\"https://s3.ap-northeast-2.amazonaws.com/opentutorials-user-file/course/94.png\" alt=\"생활코딩\">\n",
    "```\n",
    "\n",
    "<p>\n",
    "<table cellspacing=\"20\">\n",
    "<tr>\n",
    "<td>\n",
    "<img src=\"images/internet-web166.png\", width=600>\n",
    "</td>\n",
    "</tr>\n",
    "</table>\n",
    "</p>    "
   ]
  },
  {
   "cell_type": "markdown",
   "metadata": {},
   "source": [
    "* CSS 파일에서 `header img` 선택자 옵션을 아래와 같이 추가한다.\n",
    "```css\n",
    "header img{\n",
    "    float: right;\n",
    "    height:100px;\n",
    "}\n",
    "```\n",
    "\n",
    "<p>\n",
    "<table cellspacing=\"20\">\n",
    "<tr>\n",
    "<td>\n",
    "<img src=\"images/internet-web165.png\", width=600>\n",
    "</td>\n",
    "</tr>\n",
    "</table>\n",
    "</p>    "
   ]
  },
  {
   "cell_type": "markdown",
   "metadata": {},
   "source": [
    "## 주의사항\n",
    "\n",
    "지금까지 소개한 방식은 추후에 데이터베이스(Database)에 정보를 저장하는 방식으로 대체될 것임.\n",
    "\n",
    "* 웹브라우저가 정보를 요구하면 DB가 요구된 정보를 전달해주는 관계 구현 예정\n",
    "* 이유: DB가 훨씬 더 안전하게 정보를 저장하고 관리함.\n",
    "* 기본적으로 DB를 활용해야 함.\n",
    "\n",
    "<p>\n",
    "<table cellspacing=\"20\">\n",
    "<tr>\n",
    "<td>\n",
    "<img src=\"images/internet-web150.png\", width=600>\n",
    "</td>\n",
    "</tr>\n",
    "</table>\n",
    "</p>"
   ]
  }
 ],
 "metadata": {
  "kernelspec": {
   "display_name": "Python 2",
   "language": "python",
   "name": "python2"
  },
  "language_info": {
   "codemirror_mode": {
    "name": "ipython",
    "version": 2
   },
   "file_extension": ".py",
   "mimetype": "text/x-python",
   "name": "python",
   "nbconvert_exporter": "python",
   "pygments_lexer": "ipython2",
   "version": "2.7.13"
  }
 },
 "nbformat": 4,
 "nbformat_minor": 2
}
