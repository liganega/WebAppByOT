{
 "cells": [
  {
   "cell_type": "markdown",
   "metadata": {},
   "source": [
    "# 데이터베이스(MySQL) 이론"
   ]
  },
  {
   "cell_type": "markdown",
   "metadata": {},
   "source": [
    "참조 사이트: https://opentutorials.org/course/1688/9398"
   ]
  },
  {
   "cell_type": "markdown",
   "metadata": {},
   "source": [
    "## 실습 1"
   ]
  },
  {
   "cell_type": "markdown",
   "metadata": {},
   "source": [
    "### 주요 내용\n",
    "* 최종 목표 소개\n",
    "* mysqli 사용법 소개\n",
    "* index.php 파일 수정"
   ]
  },
  {
   "cell_type": "markdown",
   "metadata": {},
   "source": [
    "### 본 강좌 최종 목표\n",
    "\n",
    "이전에 공부한 파일에서 정보를 불러오는 방식으로 웹페이지를 구현한 것을 DB를 이용하는 방식으로 변경하고자 함.\n",
    "* 외부적으로 작동하는 방식은 변화 없음.\n",
    "* 내부적으로는 파일 내용을 불러오는 대신에 MySQL 서버에 저장된 정보를 불러오는 기능이 사용됨.\n",
    "\n",
    "<p>\n",
    "<table cellspacing=\"20\">\n",
    "<tr>\n",
    "<td>\n",
    "<img src=\"images/internet-web190.png\", width=600>\n",
    "</td>\n",
    "</tr>\n",
    "</table>\n",
    "</p>"
   ]
  },
  {
   "cell_type": "markdown",
   "metadata": {},
   "source": [
    "### 미들웨어로써의 PHP\n",
    "\n",
    "PHP가 웹서버와 MySQL 서버 사이의 중개자 역할을 수행함.\n",
    "* 웹서버가 MySQL 서버에 저장된 정보를 요구하면 PHP가 MySQL 서버에 접속해서 필요한 정보를 요청하여 받아옴.\n",
    "* 이런 의미에서 PHP가 미들웨어(Middleware)라고 불림.\n",
    "<p>\n",
    "<table cellspacing=\"20\">\n",
    "<tr>\n",
    "<td>\n",
    "<img src=\"images/internet-web191.png\", width=600>\n",
    "</td>\n",
    "</tr>\n",
    "</table>\n",
    "</p>\n",
    "* PHP가 웹서버와 MySQL 서버 사이의 중간자 역할을 위해서 MySQL 서버에 접속하여 \n",
    "    필요한 정보를 요구하고 받아오는 기능이 필요하다.\n",
    "* 이를 위해 `mysqli` 라는 PHP가 제공하는 API를 활용한다.    "
   ]
  },
  {
   "cell_type": "markdown",
   "metadata": {},
   "source": [
    "### `mysqli` 활용하기\n",
    "\n",
    "* `mysqli`: PHP가 MySQL 서버 제어용으로 제공하는 API\n",
    "* 예를 들어, 아래 그림에서 처럼 이전에 저장된 파일 내용을 불러오기 위해 사용된 `file_get_contents` 함수 대신에\n",
    "    MySQL 서버에 저장된 정보를 불러오는 기능을 가진 `mysqli`를 활용하고자 함.\n",
    "    \n",
    "<p>\n",
    "<table cellspacing=\"20\">\n",
    "<tr>\n",
    "<td>\n",
    "<img src=\"images/internet-web192.png\", width=600>\n",
    "</td>\n",
    "</tr>\n",
    "</table>\n",
    "</p>    "
   ]
  },
  {
   "cell_type": "markdown",
   "metadata": {},
   "source": [
    "### MySQL  monitor와 `mysqli` 비교\n",
    "\n",
    "* MySQL 서버에 저장된 데이터베이스로부터 필요한 정보를 받아오려면 아래의 네 단계를 거쳐야 한다.\n",
    "    * 서버접속: MySQL 서버에 접속한다.\n",
    "    1. 데이터베이스 선택: 적절한 데이터베이스를 선택해야 한다.\n",
    "    1. 테이블 내용 조회: 적절한 테이블로부터 필요한 정보를 요청해서 가져와야 한다.\n",
    "    1. 조회 내용 확인 및 활용: 가져온 정보를 활용해야 한다.\n",
    "* 이전에 MySQL monitor를 이용하여 서버에 직접 접속하고, 데이터베이스를 선택, 조회 및 출력하는 법을 배웠다.\n",
    "* 여기서는 PHP가 클라이언트 입장이 되어서 어떻게 MySQL 서버에 필요한 정보를 요청하고 받아오는지를 배운다.\n",
    "    달리 말해서, PHP는 서버에 직접 로그인을 하지 않은채 MySQL 서버에 필요한 정보를 요청해서 받아온다. \n",
    "    이 과정이 위 그림 오른편에 순서대로 나와 있다.\n",
    "* 아래 그림은 MySQL monitor에서 배운 명령어와 mysqli API가 제공하는 명령어들 사이의 관계를 잘 보여준다.\n",
    "<p>\n",
    "<table cellspacing=\"20\">\n",
    "<tr>\n",
    "<td>\n",
    "<img src=\"images/internet-web193.png\", width=600>\n",
    "</td>\n",
    "</tr>\n",
    "</table>\n",
    "</p>    "
   ]
  },
  {
   "cell_type": "markdown",
   "metadata": {},
   "source": [
    "### `mysqli` 명령문 설명\n",
    "\n",
    "* 서버접속: `$conn = mysqli_connect(\"localhost\", \"root\", 111111);`\n",
    "    * `$conn` 변수에는 MySQL 서버에 접속할 수 있는 권한이 있는 일종의 출입증이 저장된다.\n",
    "    * Codeanywhere를 사용할 경우: `$conn = mysqli_connect(\"localhost\", \"root\", '');`\n",
    "* 데이터베이스 선택: `mysqli_select_db($conn, \"opentutorials\");`\n",
    "    * `$conn` 출입증을 이용하여 `opentutorials` 데이터베이스를 선택할 것을 MySQL 서버에 요청한다.\n",
    "* 테이블 내용 조회: `$result = mysqli_query($conn, \"SELECT * FROM topic\");`\n",
    "    * `opentutorials` 데이터베이스의 `topic` 테이블 내용을 모두 요청하여 받아온 후 \n",
    "        `$result` 변수에 저장한다. \n",
    "    * MySQL monitor에서 `SELECT` 명령어를 실행하면 바로 그 결과를 보여준다. \n",
    "        하지만, `mysqli_query`는 함수이며, `SELECT` 명령어의 결과를 리턴한다.\n",
    "        여기서는 그 리턴값이 `$result` 변수에 저장되었다.\n",
    "        따라서 `$result` 변수에 저장된 내용을 이용하는 수단이 필요하며, \n",
    "        `mysqli_fetch_assoc` 함수가 그 수단을 제공한다.\n",
    "* 조회 내용 확인 및 활용: `$row = mysqli_fetch_assoc($result);`\n",
    "    * `mysqli_fetch_assoc` 함수는 호출될 때마다 인자로 입력된 테이블에서 하나씩 행을 차례대로 리턴한다.\n",
    "        * 즉, 처음 실행되는 첫째 행, 다음 실행되면 둘째 행, 등등으로 각각의 행을 차례대로 리턴한다. \n",
    "        * 더이상 읽을 행이 없으면 널(NULL)값을 리턴한다.\n",
    "        * 주의: PHP에서 NULL 값은 false로 취급된다.\n",
    "    * `mysqli_fetch_assoc` 함수의 리턴값의 자료형은 연관배열(associative array)이다.\n",
    "        * 연관배열은 파이썬의 사전 자료형과 비슷하게 작동한다.\n",
    "        * 여기서 `$row` 변수에 할당된 연관배열은 컬럼의 이름을 키로 하고, \n",
    "            선택된 행과 컬럼에 저장된 값이 키값으로 갖는 쌍들의 집합으로 이해할 수 있다.\n",
    "        * 예를 들어, `mysqli_fetch_assoc` 함수가 처음 호출되었다면 `$row` 에는 아래 모양의 \n",
    "            연관배열이 저장된다.\n",
    "            ```html\n",
    "            array('id'=>2, 'title'=>'Variable and Constant', 'author'=>'k8805')\n",
    "            ```\n",
    "            * 위 연관배열을 파이썬의 사전으로 표현하면 다음과 같다.\n",
    "            ```python\n",
    "            {'id':2, 'title':'Variable and Constant', 'author':'k8805'}\n",
    "            ```\n",
    "        * 연관배열의 사용은 사전의 인덱싱 기능과 유사하다. \n",
    "            위 예제의 사용하면 아래가 성립한다.\n",
    "            * `$row['id'] = 2`\n",
    "            * `$row['title'] = 'Variable and Constant`\n",
    "            * `$row['id'] = 'k8805'`\n",
    "            <p>\n",
    "            <table cellspacing=\"20\">\n",
    "            <tr>\n",
    "            <td>\n",
    "            <img src=\"images/internet-web194a.png\", width=600>\n",
    "            </td>\n",
    "            </tr>\n",
    "            </table>\n",
    "            </p>      \n",
    "    * 주의: `mysqli_fetch_assoc` 함수를 이용하여 테이블의 모든 행을 확인하였는데, 다시 동일한 테이블의 내용을 \n",
    "        확인하고자 한다면, `mysqli_query` 를 이용하여 테이블 내용 조회를 다시 실행해야 한다."
   ]
  },
  {
   "cell_type": "markdown",
   "metadata": {},
   "source": [
    "### index.php 파일 수정 1\n",
    "\n",
    "* 서버접속 정보, 데이터베이스 선택 정보, 테이블 조회 정보를 index.php 파일 맨 위에 PHP 코드로 입력한다.\n",
    "* 아래 그림에서는 opentutorials 라는 데이터베이스를 선택한 후, topic 테이블의 내용 전체를 불러와서\n",
    "    `$result` 변수에 저장한다.\n",
    "<p>\n",
    "<table cellspacing=\"20\">\n",
    "<tr>\n",
    "<td>\n",
    "<img src=\"images/internet-web194.png\", width=600>\n",
    "</td>\n",
    "</tr>\n",
    "</table>\n",
    "</p>      "
   ]
  },
  {
   "cell_type": "markdown",
   "metadata": {},
   "source": [
    "## 실습 2"
   ]
  },
  {
   "cell_type": "markdown",
   "metadata": {},
   "source": [
    "### 주요 내용\n",
    "* nav 태그 부분 수정하기"
   ]
  },
  {
   "cell_type": "markdown",
   "metadata": {},
   "source": [
    "### index.php 파일 수정 2\n",
    "\n",
    "* index.php 파일을 계속해서 수정한다.\n",
    "* 여기서는 nav 태그로 감싸인 부분, 즉, 과목들의 리스트를 담고 있는 부분을 아래와 같이 수정한다.\n",
    "* 주의: `'₩n'`(맥과 리눅스에서는 `'\\n'`)은 줄바꿈을 의미한다. \n",
    "```html\n",
    "<nav>\n",
    " <ol>\n",
    "  <?php\n",
    "   while($row = mysqli_fetch_assoc($result)) {\n",
    "     echo '<li><a href=\"http://localhost/index.php?id='.$row['id'].'\">'.$row['title'].'</a></li>'.\"\\n\";\n",
    "   }\n",
    "  ?>\n",
    " </ol>\n",
    "</nav>\n",
    "```"
   ]
  },
  {
   "cell_type": "markdown",
   "metadata": {},
   "source": [
    "그러면 웹페이지가 아래와 같이 보인다.\n",
    "<p>\n",
    "<table cellspacing=\"20\">\n",
    "<tr>\n",
    "<td>\n",
    "<img src=\"images/internet-web196.png\", width=600>\n",
    "</td>\n",
    "</tr>\n",
    "</table>\n",
    "</p>      "
   ]
  },
  {
   "cell_type": "markdown",
   "metadata": {},
   "source": [
    "웹페이지의 소스코드를 확인하면 아래와 같이 보인다.\n",
    "<p>\n",
    "<table cellspacing=\"20\">\n",
    "<tr>\n",
    "<td>\n",
    "<img src=\"images/internet-web195.png\", width=600>\n",
    "</td>\n",
    "</tr>\n",
    "</table>\n",
    "</p>      "
   ]
  },
  {
   "cell_type": "markdown",
   "metadata": {},
   "source": [
    "## 실습 3"
   ]
  },
  {
   "cell_type": "markdown",
   "metadata": {},
   "source": [
    "### 주요 내용\n",
    "* style.css 약간 수정: 홈페이지 좀 더 예쁘게 꾸미기\n",
    "* article 부분 수정하기"
   ]
  },
  {
   "cell_type": "markdown",
   "metadata": {},
   "source": [
    "### style.css 수정"
   ]
  },
  {
   "cell_type": "markdown",
   "metadata": {},
   "source": [
    "#### nav 태그 부분 스타일 꾸미기\n",
    "\n",
    "* style.css 파일의 `nav ol` 선택자 부분에 padding 속성값을 0으로 지정하면 과목 항목 부분이 좀 더 예뻐진다.\n",
    "<p>\n",
    "<table cellspacing=\"20\">\n",
    "<tr>\n",
    "<td>\n",
    "<img src=\"images/internet-web197.png\", width=600>\n",
    "</td>\n",
    "</tr>\n",
    "</table>\n",
    "</p>      "
   ]
  },
  {
   "cell_type": "markdown",
   "metadata": {},
   "source": [
    "#### article 태그 부분 스타일 꾸미기\n",
    "\n",
    "* style.css 파일의 `article` 선택자 부분에 width 속성값을 500으로 지정하면 본문 부분이 과목 항목 부분 옆으로 잘 보여진다.\n",
    "<p>\n",
    "<table cellspacing=\"20\">\n",
    "<tr>\n",
    "<td>\n",
    "<img src=\"images/internet-web198.png\", width=600>\n",
    "</td>\n",
    "</tr>\n",
    "</table>\n",
    "</p>      \n",
    "<p>\n",
    "<table cellspacing=\"20\">\n",
    "<tr>\n",
    "<td>\n",
    "<img src=\"images/internet-web199.png\", width=600>\n",
    "</td>\n",
    "</tr>\n",
    "</table>\n",
    "</p>      "
   ]
  },
  {
   "cell_type": "markdown",
   "metadata": {},
   "source": [
    "### index.php 파일 수정 3\n",
    "\n",
    "* index.php 파일을 계속해서 수정한다.\n",
    "* 여기서는 article 태그로 감싸인 부분, 즉, 선택된 과목을 소개하는 본문 내용을 담아야 한다.\n",
    "* 주의\n",
    "    * 앞서 nav 태그 부분에서 이미 한 번 조회한 테이블의 내용을 모두 소진하였다.\n",
    "    * 따라서 `mysql_query`를 이용하여 topic 테이블 정보를 다시 불러와야 한다.\n",
    "    * 반면에 여기는 `id` 값에 따라 한 번만 조회 내용을 확인하면 된다. \n",
    "    * 아래 코드에서 `$sql` 변수는 SQL 명령어가 id 값에 의존하도록 만들었다.\n",
    "    * `===` 는 동일여부 비교연산자이다.\n",
    "\n",
    "```html\n",
    "<article>\n",
    "    <?php\n",
    "        if(empty($_GET['id']) === false ) {\n",
    "            $sql = 'SELECT * FROM topic WHERE id='.$_GET['id'];\n",
    "            $result = mysqli_query($conn, $sql);\n",
    "            $row = mysqli_fetch_assoc($result);\n",
    "            echo '<h2>'.$row['title'].'</h2>';\n",
    "            echo $row['description'];\n",
    "        }\n",
    "    ?>\n",
    "</article>\n",
    "```"
   ]
  },
  {
   "cell_type": "markdown",
   "metadata": {},
   "source": [
    "### 최종 결과\n",
    "\n",
    "위와 같이 수정하면 이전에 파일에 정보를 저장하여 `file_get_contents` 함수를 이용한 방식과 동일한 결과를 순수하게 DB만을 이용하여 구현하게 된다.\n",
    "\n",
    "#### 주의사항\n",
    "\n",
    "하지만 보다 현대적인 웹사이트를 구현하려면, 웹페이지를 통해 정보를 DB에 저장하고 수정하는 방식을 구현해야 한다.\n",
    "지금까지는 MySQL 서버에 직접 로그인해서 입력하는 방식만을 배웠다.\n",
    "\n",
    "이후 강좌를 통해 웹페이지를 통해 DB에 서버를 저장하고 수정하는 방식을 배우고자 한다."
   ]
  }
 ],
 "metadata": {
  "kernelspec": {
   "display_name": "Python 2",
   "language": "python",
   "name": "python2"
  },
  "language_info": {
   "codemirror_mode": {
    "name": "ipython",
    "version": 2
   },
   "file_extension": ".py",
   "mimetype": "text/x-python",
   "name": "python",
   "nbconvert_exporter": "python",
   "pygments_lexer": "ipython2",
   "version": "2.7.13"
  }
 },
 "nbformat": 4,
 "nbformat_minor": 2
}
