{
 "cells": [
  {
   "cell_type": "markdown",
   "metadata": {},
   "source": [
    "# 자바스크립트 실습"
   ]
  },
  {
   "cell_type": "markdown",
   "metadata": {},
   "source": [
    "white, black 버튼을 만들고 각각의 버튼을 눌렀을 때 배경화면이 바뀌는 기능 꾸미기\n",
    "\n",
    "* JS는 html을 기능적으로 제어하는 프로그래밍 언어"
   ]
  },
  {
   "cell_type": "markdown",
   "metadata": {},
   "source": [
    "## 웹페이지에 버튼 만들기\n",
    "\n",
    "* input 태그 활용\n",
    "\n",
    "* <input type=\"button\" value=\"white\" />\n",
    "\n",
    "* input 태그의 type 속성값\n",
    "    * button\n",
    "    * text\n",
    "    * checkbox 등등\n",
    "* input 태그 중 onclick 속성\n",
    "    * 이벤트 기능 구현에 사용됨\n",
    "    * JS 명령어를 input 태그 안에서 실행하도록 함\n",
    "    * 예: onclick=\"alert('Hello World')\"\n",
    "    \n",
    "            <script>\n",
    "                alert('Hello World')\n",
    "            </script>\n",
    "            \n",
    "    * <input type=\"button\" value=\"white\" onclick=\"alert('Hello World')\" />\n",
    "    \n",
    "* 기타 태그\n",
    "    * onfocus, onblur 등등\n",
    "        * 속성값으로 JS 코드 받음\n"
   ]
  }
 ],
 "metadata": {
  "kernelspec": {
   "display_name": "Python 2",
   "language": "python",
   "name": "python2"
  },
  "language_info": {
   "codemirror_mode": {
    "name": "ipython",
    "version": 2
   },
   "file_extension": ".py",
   "mimetype": "text/x-python",
   "name": "python",
   "nbconvert_exporter": "python",
   "pygments_lexer": "ipython2",
   "version": "2.7.13"
  }
 },
 "nbformat": 4,
 "nbformat_minor": 2
}
