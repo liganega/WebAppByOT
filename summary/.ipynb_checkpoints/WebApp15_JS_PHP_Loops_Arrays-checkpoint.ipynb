{
 "cells": [
  {
   "cell_type": "markdown",
   "metadata": {},
   "source": [
    "## 반복문\n",
    "\n",
    "* while 반복문은 두 언어 모두 동일한 양식을 갖는다.\n",
    "\n",
    "<p>\n",
    "<table cellspacing=\"20\">\n",
    "<tr>\n",
    "<td>\n",
    "<img src=\"images/internet-web101.png\", width=300>\n",
    "</td>\n",
    "</tr>\n",
    "</table>\n",
    "</p>\n",
    "\n",
    "* 아래 이미지는 js와 php를 이용하여 반복적으로 리스트를 생성하는 예제 코드를 보여준다.\n",
    "    * 주의: js, php 코드와 html 코드를 적당하게 조합하였다.\n",
    "        \n",
    "<p>\n",
    "<table cellspacing=\"20\">\n",
    "<tr>\n",
    "<td>\n",
    "<img src=\"images/internet-web102.png\", width=300>\n",
    "</td>\n",
    "<td>\n",
    "<img src=\"images/internet-web103.png\", width=300>\n",
    "</td>\n",
    "</tr>\n",
    "</table>\n",
    "</p>        "
   ]
  },
  {
   "cell_type": "markdown",
   "metadata": {},
   "source": [
    "## 배열(어레이, Array)\n",
    "\n",
    "* 연관된 여러 값을 체계적으로 관리하는 자료형\n",
    "\n",
    "* 두 언어에서 어레이를 생성하는 법\n",
    "    * 인덱싱은 기타 언어에서와 비슷하다.\n",
    "\n",
    "<p>\n",
    "<table cellspacing=\"20\">\n",
    "<tr>\n",
    "<td>\n",
    "<img src=\"images/internet-web104.png\", width=300>\n",
    "</td>\n",
    "</tr>\n",
    "</table>\n",
    "</p>\n",
    "\n",
    "* 활용 예제\n",
    "        \n",
    "<p>\n",
    "<table cellspacing=\"20\">\n",
    "<tr>\n",
    "<td>\n",
    "<img src=\"images/internet-web105.png\", width=300>\n",
    "</td>\n",
    "</tr>\n",
    "</table>\n",
    "</p>        \n",
    "\n",
    "* 예제: 배열의 길이 확인\n",
    "    * js: `length` 라는 배열 속성 이용\n",
    "    * php: `count` 함수 활용\n",
    "        \n",
    "<p>\n",
    "<table cellspacing=\"20\">\n",
    "<tr>\n",
    "<td>\n",
    "<img src=\"images/internet-web106.png\", width=300>\n",
    "</td>\n",
    "</tr>\n",
    "</table>\n",
    "</p>        "
   ]
  },
  {
   "cell_type": "markdown",
   "metadata": {},
   "source": [
    "### 배열과 반복문\n",
    "\n",
    "* 배열과 반복문은 함께 배워야 한다.\n",
    "* 아래 이미지는 배열과 반복문을 결합해서 활용하는 예제를 담고 있다.\n",
    "\n",
    "<p>\n",
    "<table cellspacing=\"20\">\n",
    "<tr>\n",
    "<td>\n",
    "<img src=\"images/internet-web107.png\", width=300>\n",
    "</td>\n",
    "</tr>\n",
    "</table>\n",
    "</p>"
   ]
  }
 ],
 "metadata": {
  "kernelspec": {
   "display_name": "Python 2",
   "language": "python",
   "name": "python2"
  },
  "language_info": {
   "codemirror_mode": {
    "name": "ipython",
    "version": 2
   },
   "file_extension": ".py",
   "mimetype": "text/x-python",
   "name": "python",
   "nbconvert_exporter": "python",
   "pygments_lexer": "ipython2",
   "version": "2.7.13"
  }
 },
 "nbformat": 4,
 "nbformat_minor": 2
}
