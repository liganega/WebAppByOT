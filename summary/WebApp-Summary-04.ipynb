{
 "cells": [
  {
   "cell_type": "markdown",
   "metadata": {},
   "source": [
    "# UI vs API\n",
    "\n",
    "* UI = User Interface\n",
    "* API = Application Programming Interface\n",
    "\n",
    "서로 비슷하며 다르다.\n",
    "\n",
    "* 공통점\n",
    "    * 사람과 기계가 서로 정보를 주곱받는 기능 제공\n",
    "        * 예: prompt 창\n",
    "\n",
    "<p>\n",
    "<table cellspacing=\"20\">\n",
    "<tr>\n",
    "<td>\n",
    "<img src=\"images/internet-web108.png\", width=300>\n",
    "</td>\n",
    "</tr>\n",
    "</table>\n",
    "</p>\n",
    "\n",
    "\n",
    "* Layer (무슨 레이어?)\n",
    "\n",
    "    * UI\n",
    "    * 웹브라우저\n",
    "    * 운영체제\n",
    "    * C 언어 등 활용\n",
    "    * 어셈블리어\n",
    "    * 기계어\n",
    "    * 전자공학(CPU, RAM 등의 하드웨어)\n",
    "    * 전기공학\n",
    "    * 물리학\n",
    "    \n",
    "* 각각의 레이어는 API를 통해 연결됨"
   ]
  },
  {
   "cell_type": "markdown",
   "metadata": {},
   "source": [
    "## API 전성시대\n",
    "\n",
    "* 이전엔 운영체제가 유일한 API 기능 제공\n",
    "* 웹브라우저의 출현 이후 상황 달라짐\n",
    "    * 운영체제 상의 하나의 애플리케이션이지만, 스스로 API 기능 제공\n",
    "    * 이후 수많은 웹애플리케이션 등장 및 발전\n",
    "* 웹애플리케이션들 중 일부는 스스로 API 제공\n",
    "    * 예: 구글플러서, 트위터, 페이스북 등등\n",
    "* 스마트폰 등장\n",
    "    * 자체 API 제공\n",
    "* 이제는 다양한 생활도구 등도 자체적인 API 제공\n",
    "\n",
    "* 결론\n",
    "    * API의 폭발적 증가\n",
    "    * 쉬워진 프로그래밍"
   ]
  },
  {
   "cell_type": "markdown",
   "metadata": {},
   "source": [
    "# 자바스크립트 실습"
   ]
  },
  {
   "cell_type": "markdown",
   "metadata": {},
   "source": [
    "white, black 버튼을 만들고 각각의 버튼을 눌렀을 때 배경화면이 바뀌는 기능 꾸미기\n",
    "\n",
    "* JS는 html을 기능적으로 제어하는 프로그래밍 언어"
   ]
  },
  {
   "cell_type": "markdown",
   "metadata": {},
   "source": [
    "## 웹페이지에 버튼 만들기\n",
    "\n",
    "* input 태그 활용\n",
    "\n",
    "* <input type=\"button\" value=\"white\" />\n",
    "\n",
    "* input 태그의 type 속성값\n",
    "    * button\n",
    "    * text\n",
    "    * checkbox 등등\n",
    "* input 태그 중 onclick 속성\n",
    "    * 이벤트 기능 구현에 사용됨\n",
    "    * JS 명령어를 input 태그 안에서 실행하도록 함\n",
    "    * 예: onclick=\"alert('Hello World')\"\n",
    "    \n",
    "            <script>\n",
    "                alert('Hello World')\n",
    "            </script>\n",
    "            \n",
    "    * <input type=\"button\" value=\"white\" onclick=\"alert('Hello World')\" />\n",
    "    \n",
    "* 기타 태그\n",
    "    * onfocus, onblur 등등\n",
    "        * 속성값으로 JS 코드 받음\n"
   ]
  }
 ],
 "metadata": {
  "kernelspec": {
   "display_name": "Python 2",
   "language": "python",
   "name": "python2"
  },
  "language_info": {
   "codemirror_mode": {
    "name": "ipython",
    "version": 2
   },
   "file_extension": ".py",
   "mimetype": "text/x-python",
   "name": "python",
   "nbconvert_exporter": "python",
   "pygments_lexer": "ipython2",
   "version": "2.7.13"
  }
 },
 "nbformat": 4,
 "nbformat_minor": 2
}
