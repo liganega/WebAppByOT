{
 "cells": [
  {
   "cell_type": "markdown",
   "metadata": {},
   "source": [
    "# Javascript 대 PHP\n",
    "\n",
    "* 서로 경쟁적이며 협력하는 관계\n",
    "* 많은 동일한 일을 양쪽 모두에서 할 수 있다.\n",
    "* 반면에 각각의 장점이 있다.\n",
    "\n",
    "<p>\n",
    "<table cellspacing=\"20\">\n",
    "<tr>\n",
    "<td>\n",
    "<img src=\"images/internet-web58a.png\", width=600>\n",
    "</td>\n",
    "</tr>\n",
    "</table>\n",
    "</p>"
   ]
  },
  {
   "cell_type": "markdown",
   "metadata": {},
   "source": [
    "## JavaScript와 PHP의 특징\n",
    "\n",
    "* html와 css는 정적인 언어이다. \n",
    "    * 정적: 한 번 만들면 내용의 변화 없음.\n",
    "    * 문서 만들기에 좋음    \n",
    "* javascript와 php 동적인 언어이다.\n",
    "    * 상황에 따라 다르게 기능하는 애플리케이션 만들 때 활용.\n",
    "<p>\n",
    "<table cellspacing=\"20\">\n",
    "<tr>\n",
    "<td>\n",
    "<img src=\"images/internet-web58b.png\", width=600>\n",
    "</td>\n",
    "</tr>\n",
    "</table>\n",
    "</p>    "
   ]
  },
  {
   "cell_type": "markdown",
   "metadata": {},
   "source": [
    "## JavaScript\n",
    "\n",
    "* 예를 들어, black 또는 white 버튼을 누르면 바탕화면의 색깔을 변경하도록 만들 수 있다.\n",
    "\n",
    "<p>\n",
    "<table cellspacing=\"20\">\n",
    "<tr>\n",
    "<td>\n",
    "<img src=\"images/internet-web58.png\", width=600>\n",
    "</td>\n",
    "</tr>\n",
    "</table>\n",
    "</p>\n",
    "\n",
    "<p>\n",
    "<table cellspacing=\"20\">\n",
    "<tr>\n",
    "<td>\n",
    "<img src=\"images/internet-web59.png\", width=600>\n",
    "</td>\n",
    "</tr>\n",
    "</table>\n",
    "</p>"
   ]
  },
  {
   "cell_type": "markdown",
   "metadata": {},
   "source": [
    "## PHP\n",
    "\n",
    "* html 에서 css 파일을 따로 분리하여 스타일 파일을 여러 파일에서 공유하는 것처럼\n",
    "    하나의 html 파일을 여러 html 파일이 공유할 수 있는 기능 제공\n",
    "\n",
    "* 예제: `nav` 태그로 감싸인 네비게이션 부분을 수정하고 할 때 모든 파일을 수정해야만 한다.\n",
    "    예를 들어, `ol` 태그를 `ul` 태그로 변경하고자 하면 다른 파일에서도 수정해야 한다.\n",
    "\n",
    "<p>\n",
    "<table cellspacing=\"20\">\n",
    "<tr>\n",
    "<td>\n",
    "<img src=\"images/internet-web60.png\", width=600>\n",
    "</td>\n",
    "</tr>\n",
    "</table>\n",
    "</p>\n",
    "\n",
    "이런 문제는 웹페이지 소스코드에는 내용에 해당하는 정보와 그 정보를 꾸며주는 html 코드가 \n",
    "공존하고 있기 때문에 발생한다.\n",
    "즉, 위 그림에서는 내용은 그대로 인데 html 태그만 변경하고자 할 때, 그리고 변경해야 할 \n",
    "파일이 많을 때 위와 같은 문제가 발생한다."
   ]
  },
  {
   "cell_type": "markdown",
   "metadata": {},
   "source": [
    "### PHP 등장 이유\n",
    "\n",
    "앞서 언급한 문제를 해결하기 위해 php 언어가 등장했다.\n",
    "\n",
    "예를 들어, 아래 이미지는 index.php 파일을 이용하여 여러 개의 파일을 다룰 수 있는 것을 보여준다.\n",
    "(주의: 아직은 php 코드를 이해하지 못해도 된다.)\n",
    "\n",
    "<p>\n",
    "<table cellspacing=\"20\">\n",
    "<tr>\n",
    "<td>\n",
    "<img src=\"images/internet-web61.png\", width=600>\n",
    "</td>\n",
    "</tr>\n",
    "</table>\n",
    "</p>\n",
    "\n",
    "<p>\n",
    "<table cellspacing=\"20\">\n",
    "<tr>\n",
    "<td>\n",
    "<img src=\"images/internet-web62.png\", width=600>\n",
    "</td>\n",
    "</tr>\n",
    "</table>\n",
    "</p>"
   ]
  },
  {
   "cell_type": "markdown",
   "metadata": {},
   "source": [
    "따라서 index.php 내용을 변경하면 다른 페이지의 내용도 자동으로 변경된다.\n",
    "아래 그림은 header를 변경하면 다른 페이지에 영향을 주는 것을 보여준다.\n",
    "\n",
    "<p>\n",
    "<table cellspacing=\"20\">\n",
    "<tr>\n",
    "<td>\n",
    "<img src=\"images/internet-web63.png\", width=600>\n",
    "</td>\n",
    "</tr>\n",
    "</table>\n",
    "</p>\n",
    "\n",
    "<p>\n",
    "<table cellspacing=\"20\">\n",
    "<tr>\n",
    "<td>\n",
    "<img src=\"images/internet-web64.png\", width=600>\n",
    "</td>\n",
    "</tr>\n",
    "</table>\n",
    "</p>"
   ]
  }
 ],
 "metadata": {
  "kernelspec": {
   "display_name": "Python 2",
   "language": "python",
   "name": "python2"
  },
  "language_info": {
   "codemirror_mode": {
    "name": "ipython",
    "version": 2
   },
   "file_extension": ".py",
   "mimetype": "text/x-python",
   "name": "python",
   "nbconvert_exporter": "python",
   "pygments_lexer": "ipython2",
   "version": "2.7.13"
  }
 },
 "nbformat": 4,
 "nbformat_minor": 2
}
