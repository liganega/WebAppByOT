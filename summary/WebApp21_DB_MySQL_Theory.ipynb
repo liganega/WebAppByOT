{
 "cells": [
  {
   "cell_type": "markdown",
   "metadata": {},
   "source": [
    "# 데이터베이스(MySQL) 이론"
   ]
  },
  {
   "cell_type": "markdown",
   "metadata": {},
   "source": [
    "참조 사이트: https://opentutorials.org/course/1688/9386"
   ]
  },
  {
   "cell_type": "markdown",
   "metadata": {},
   "source": [
    "## 이론 1\n",
    "\n",
    "* HTML 안에서도 가장 중요한 게 정보임\n",
    "* 따라서 정보를 표현하고, 다루고, 관리하는 것이 가장 중요함\n",
    "* 이런 목적을 달성하기 위해 만들어진 전문 애플리케이션이 데이터베이스임.\n",
    "* 근대적인 웹애플리케이션은 모두 데이터베이스를 활용함."
   ]
  },
  {
   "cell_type": "markdown",
   "metadata": {},
   "source": [
    "### 주요 목표\n",
    "\n",
    "* PHP 실습에서 파일을 이용하여 웹페이지를 구현하는 방식을 DB를 이용하여 구현하고자 함.\n",
    "* 여기서는 DB를 다루는 기본 지식을 습득하고자 함."
   ]
  },
  {
   "cell_type": "markdown",
   "metadata": {},
   "source": [
    "### 데이터베이스(Database, DB)\n",
    "\n",
    "* DB는 안전하다.\n",
    "    * 금고에 저장된 귀금속처럼 저장된 정보가 노출되는 것을 막을 수 있다. \n",
    "* DB는 빠르다.\n",
    "    * 인덱스(색인)을 활용하여 매우 빠르게 필요한 정보를 찾을 수 있다.\n",
    "* DB는 프로그래밍을 통해 제어가 가능하다.\n",
    "    * SQL 언어를 활용하여 DB를 제어할 수 있다."
   ]
  },
  {
   "cell_type": "markdown",
   "metadata": {},
   "source": [
    "### MySQL 소개\n",
    "\n",
    "* 현대에는 관계형 데이터베이스가 기본적으로 사용된다.\n",
    "* 많이 사용되는 데이터베이스는 다음과 같다.\n",
    "\n",
    "<p>\n",
    "<table cellspacing=\"20\">\n",
    "<tr>\n",
    "<td>\n",
    "<img src=\"images/internet-web167.png\", width=600>\n",
    "</td>\n",
    "</tr>\n",
    "</table>\n",
    "</p>\n",
    "\n",
    "* 여기서는 MySQL을 이용하여 DB를 관리하는 방식을 배운다.\n",
    "\n",
    "<p>\n",
    "<table cellspacing=\"20\">\n",
    "<tr>\n",
    "<td>\n",
    "<img src=\"images/internet-web168.png\", width=600>\n",
    "</td>\n",
    "</tr>\n",
    "</table>\n",
    "</p>\n",
    "\n",
    "* MySQL의 장점\n",
    "    * WEB의 발전과 함께 계속 발전해 옴.\n",
    "    * MySQL을 잘 배우면 다른 언어도 쉽게 배울 수 있음.\n",
    "    * 오픈소스이며, 다양한 다른 오프소스와 연동이 쉬움.\n",
    "    * 현재 가장 빠르게 발전하는 MariaDB와 완벽하게 호환됨."
   ]
  },
  {
   "cell_type": "markdown",
   "metadata": {},
   "source": [
    "### 구조화된 데이터(Structured Data)\n",
    "\n",
    "* 정보를 구조화시켜서 표현하면 보다 효율적으로 정보를 다룰 수 있음.\n",
    "* 표(테이블)가 대표적인 구조화된 정보이다.\n",
    "<p>\n",
    "<table cellspacing=\"20\">\n",
    "<tr>\n",
    "<td>\n",
    "<img src=\"images/internet-web169.png\", width=600>\n",
    "</td>\n",
    "</tr>\n",
    "</table>\n",
    "</p>"
   ]
  },
  {
   "cell_type": "markdown",
   "metadata": {},
   "source": [
    "* 예제: 엑셀에서 사용하는 테이블\n",
    "<p>\n",
    "<table cellspacing=\"20\">\n",
    "<tr>\n",
    "<td>\n",
    "<img src=\"images/internet-web170.png\", width=600>\n",
    "</td>\n",
    "</tr>\n",
    "</table>\n",
    "</p>\n",
    "\n",
    "* 하지만 엑셀에는 SQL이 없다."
   ]
  },
  {
   "cell_type": "markdown",
   "metadata": {},
   "source": [
    "### SQL 소개\n",
    "\n",
    "* SQL = Structured Query Language\n",
    "* 표준화 되었음.\n",
    "* MySQL, 오라클 등 모두 동일한 SQL을 이용함.\n",
    "* MySQL 서버와 MySQL 클라이언트로 구분됨.\n",
    "\n",
    "<p>\n",
    "<table cellspacing=\"20\">\n",
    "<tr>\n",
    "<td>\n",
    "<img src=\"images/internet-web171.png\", width=600>\n",
    "</td>\n",
    "</tr>\n",
    "</table>\n",
    "</p>\n",
    "\n",
    "* SQL 명령을 통해 MySQL 클라이언트가 MySQL 서버에 정보를 요청하고, 서버는 요구된 정보를 전달함.\n",
    "    * 아래 그림에서 `SELECT * FROM topic`은 SQL 명령어임.\n",
    "\n",
    "<p>\n",
    "<table cellspacing=\"20\">\n",
    "<tr>\n",
    "<td>\n",
    "<img src=\"images/internet-web172.png\", width=600>\n",
    "</td>\n",
    "</tr>\n",
    "</table>\n",
    "</p>"
   ]
  },
  {
   "cell_type": "markdown",
   "metadata": {},
   "source": [
    "### 여기서 DB를 배우는 최종 목표\n",
    "\n",
    "* 이전에 PHP를 이용하여 HTML과 정보를 분리하였음.\n",
    "    * 정보가 파일에 저장되었고, PHP를 이용하여 파일에 저장된 정보를 불어왔음.\n",
    "\n",
    "<p>\n",
    "<table cellspacing=\"20\">\n",
    "<tr>\n",
    "<td>\n",
    "<img src=\"images/internet-web147.png\", width=600>\n",
    "</td>\n",
    "</tr>\n",
    "</table>\n",
    "</p>"
   ]
  },
  {
   "cell_type": "markdown",
   "metadata": {},
   "source": [
    "* 위 그림처럼 구현된 웹서버를 아래 그림처럼 다시 구현하고자 함.\n",
    "    * 파일에 정보를 저장하는 대신에 DB에 정보를 저장함\n",
    "    * DB에 저장된 파일을 PHP와 SQL의 명령어를 이용하여 불러옴.\n",
    "\n",
    "<p>\n",
    "<table cellspacing=\"20\">\n",
    "<tr>\n",
    "<td>\n",
    "<img src=\"images/internet-web173.png\", width=600>\n",
    "</td>\n",
    "</tr>\n",
    "</table>\n",
    "</p>"
   ]
  },
  {
   "cell_type": "markdown",
   "metadata": {},
   "source": [
    "### 서버와 클라이언트의 관계\n",
    "\n",
    "서버와 클라이언트의 관계는 상대적이다.\n",
    "\n",
    "* 웹브라우저 입장에서 PHP는 서버측에서 작동한다.\n",
    "* 하지만 PHP 입장에서는 MySQL 서버에 접속하는 MySQL 클라이언트 역할을 수행한다.\n",
    "    \n",
    "<p>\n",
    "<table cellspacing=\"20\">\n",
    "<tr>\n",
    "<td>\n",
    "<img src=\"images/internet-web174.png\", width=600>\n",
    "</td>\n",
    "</tr>\n",
    "</table>\n",
    "</p>    "
   ]
  },
  {
   "cell_type": "markdown",
   "metadata": {},
   "source": [
    "## 이론 2\n",
    "\n",
    "* SQL 기초 배우기\n",
    "* MySQL의 핵심은 서버쪽에 위치한다.\n",
    "    * 정보를 어떻게 잘 관리할지가 가장 중요한 핵심임.\n",
    "* 반면에 MySQL 클라이언트는 MySQL 서버에 필요한 정보를 요청한다.\n",
    "    * 여기서는 MySQL monitor를 클라이언트로 사용하여 MySQL 서버를 제어함.\n",
    "    * MySQL을 설치하면 기본적으로 함께 설치됨.\n",
    "    * 표준 SQL 명렬을 이용하여 서버를 제어해야 함.\n",
    "    * 기타 GUI를 지원하는 클라인트도 있지만 여기서는 사용하지 않음.\n",
    "    \n",
    "<p>\n",
    "<table cellspacing=\"20\">\n",
    "<tr>\n",
    "<td>\n",
    "<img src=\"images/internet-web175.png\", width=600>\n",
    "</td>\n",
    "</tr>\n",
    "</table>\n",
    "</p>        "
   ]
  },
  {
   "cell_type": "markdown",
   "metadata": {},
   "source": [
    "### 운영체제별 MySQL monitor 실행법\n",
    "\n",
    "* 윈도우: 명령 프롬프트(cmd.exe) 창에서 아래 명령어 실행\n",
    "    * mysql이 위치한 디렉토리, 즉, MySQL 서버가 설치된 곳에서 아래 명령어 실행 후 비밀번호 입력\n",
    "    * 강의에서 사용하는 bitnami 서버의 경우 111111로 세팅되었음.\n",
    "```bash\n",
    "mysql -hlocalhost -uroot -p\n",
    "```\n",
    "\n",
    "* 맥, 리눅스: 터미널(terminal) 창에서 아래 명령어 실행 후 비밀번호 입력\n",
    "    * MySQL 서버가 설치된 곳에서 아래 명령어 실행\n",
    "    * 강의에서 사용하는 bitnami 서버의 경우 111111로 세팅되었음.\n",
    "```bash\n",
    "./mysql -hlocalhost -uroot -p\n",
    "```\n",
    "\n",
    "* Codeanywhere 서버를 사용하는 경우\n",
    "    * 서버에 접속해서 터미널 창을 띄운 후 아래 명령어 실행 후 비밀번호 입력\n",
    "    * 비번은 기본적으로 없음.\n",
    "```bash\n",
    "mysql -hlocalhost -uroot -p\n",
    "```\n",
    "    * 다음 동영상 참조: https://www.youtube.com/watch?v=3tyWhVCBiJE&feature=youtu.be"
   ]
  },
  {
   "cell_type": "markdown",
   "metadata": {},
   "source": [
    "* 아래와 같은 창을 보게 되면 MySQL 서버에 성공적으로 접속한 것임.\n",
    "\n",
    "<p>\n",
    "<table cellspacing=\"20\">\n",
    "<tr>\n",
    "<td>\n",
    "<img src=\"images/internet-web176.png\", width=600>\n",
    "</td>\n",
    "</tr>\n",
    "</table>\n",
    "</p>       "
   ]
  },
  {
   "cell_type": "markdown",
   "metadata": {},
   "source": [
    "* `mysql -hlocalhost -uroot -p` 명령어 이해하기\n",
    "    * mysql: MySQL monitor 실행 명렬어\n",
    "    * -h: 서버주소 지정하기\n",
    "        * 예: localhost\n",
    "            * MySQL 서버가 MySQL 클라이언트와 동일한 컴에 설치된 경우 사용\n",
    "    * -u: 사용자 아이디 지정하기\n",
    "        * 예: root\n",
    "            * 여기서는 관리자 아이디 사용\n",
    "    * -p: 사용자 패스워드 지정하기\n",
    "        * 비밀번호는 함께 적지 않는 것이 권장됨\n",
    "        * 그러면 이후에 비밀번호를 입력하라고 요구될 것임\n",
    "\n",
    "<p>\n",
    "<table cellspacing=\"20\">\n",
    "<tr>\n",
    "<td>\n",
    "<img src=\"images/internet-web177.png\", width=600>\n",
    "</td>\n",
    "</tr>\n",
    "</table>\n",
    "</p>       "
   ]
  },
  {
   "cell_type": "markdown",
   "metadata": {},
   "source": [
    "## 이론 3\n",
    "\n",
    "* MySQL 서버는 데이터베이스들로 구성되어 있음.\n",
    "* 각각의 데이터베이스는 여러 정보를 여러 개의 테이블의 형태로 담고 있음.\n",
    "* 데이터베이스는 디렉토리, 테이블은 디렉토리에 저장된 파일로 이해될 수 있음.\n",
    "* 사용하는 웹어프리케이션 마다 따로 따로 데이터베이스를 만들어 사용함.\n",
    "    \n",
    "<p>\n",
    "<table cellspacing=\"20\">\n",
    "<tr>\n",
    "<td>\n",
    "<img src=\"images/internet-web178.png\", width=600>\n",
    "</td>\n",
    "</tr>\n",
    "</table>\n",
    "</p>        "
   ]
  },
  {
   "cell_type": "markdown",
   "metadata": {},
   "source": [
    "### 데이터베이스 확인하기\n",
    "\n",
    "* 현재 존재하는 데이터베이스를 확인하려면 다음 명령어 실행: `show databases;`\n",
    "<p>\n",
    "<table cellspacing=\"20\">\n",
    "<tr>\n",
    "<td>\n",
    "<img src=\"images/internet-web179.png\", width=600>\n",
    "</td>\n",
    "</tr>\n",
    "</table>\n",
    "</p>        \n",
    "\n",
    "* 위 그림에서는 4개의 데이터베이스가 보인다. \n",
    "    하지만 이것들은 MySQL 서버가 기본으로 만들어 놓은 것들이며, 건드리지 않는다."
   ]
  },
  {
   "cell_type": "markdown",
   "metadata": {},
   "source": [
    "### 데이터베이스 생성하기\n",
    "\n",
    "* 새로운 데이터베이스를 생성하고자 할 때 `CREATE DATABASE` 라는 SQL 명령어 활용.\n",
    "* 아래 그림은 opentutorials라는 데이터베이스를 생성한 후 결과를 확인한 내용이다.\n",
    "* 명령어는 대소문자 모두 사용해도 된다. 하지만, SQL 기본명령어는 관용적으로 대문자로 쓴다.\n",
    "* 모든 명령어는 세미콜론(`;`)로 끝나야 한다.\n",
    "<p>\n",
    "<table cellspacing=\"20\">\n",
    "<tr>\n",
    "<td>\n",
    "<img src=\"images/internet-web180.png\", width=600>\n",
    "</td>\n",
    "</tr>\n",
    "</table>\n",
    "</p>        "
   ]
  },
  {
   "cell_type": "markdown",
   "metadata": {},
   "source": [
    "### 특정 데이터베이스 지정하기\n",
    "\n",
    "* 존재하는 데이터베이스를 선택하고자 할 때 `use` 명령어 사용.\n",
    "* 아래 그림은 opentutorials라는 데이터베이스를 선택한 결과를 보여준다.\n",
    "* 이는 마치 opentutorials라는 디렉토리에 들어간 것에 해당한다.\n",
    "<p>\n",
    "<table cellspacing=\"20\">\n",
    "<tr>\n",
    "<td>\n",
    "<img src=\"images/internet-web181.png\", width=600>\n",
    "</td>\n",
    "</tr>\n",
    "</table>\n",
    "</p>\n",
    "* 이제부터 실행되는 명령은 모두 선택된 데이터베이스에만 적용된다."
   ]
  },
  {
   "cell_type": "markdown",
   "metadata": {},
   "source": [
    "### 특정 데이터베이스에 테이블 생성하기\n",
    "\n",
    "* 선택된 데이터베이스에 테이블을 생성하고자 할 때 `CREATE TABLE` 명령어 사용.\n",
    "* 아래 명령어는 opentutorials 데이터베이스에 topic 이라는 테이블을 생성한 결과를 보여준다.\n",
    "* 이는 마치 opentutorials라는 디렉토리에 topic 이라는 파일명을 가진 엑셀파일을 생성한 것에 해당한다.\n",
    "```sql\n",
    "CREATE TABLE `topic` (\n",
    "`id` int(11) NOT NULL AUTO_INCREMENT,\n",
    "  `title` varchar(100) NOT NULL,\n",
    "  `description` text NOT NULL,\n",
    "  `author` varchar(30) NOT NULL,\n",
    "  `created` datetime NOT NULL,\n",
    "  PRIMARY KEY (id)\n",
    ") ENGINE=InnoDB DEFAULT CHARSET=utf8;\n",
    "```"
   ]
  },
  {
   "cell_type": "markdown",
   "metadata": {},
   "source": [
    "* 위 명령어는 아래 모양의 테이블을 엑셀에서 생성하는 것과 동일한 테이블을 opentutorials 데이터베이스 안에\n",
    "    생성한다.\n",
    "<p>\n",
    "<table cellspacing=\"20\">\n",
    "<tr>\n",
    "<td>\n",
    "<img src=\"images/internet-web182.png\", width=600>\n",
    "</td>\n",
    "</tr>\n",
    "</table>\n",
    "</p>"
   ]
  },
  {
   "cell_type": "markdown",
   "metadata": {},
   "source": [
    "* 다시 말해서, 위 명령어는 컬럼별로 컬럼의 이름과 해당 컬럼에 어떤 자료형의 정보가 입력될지를 지정한다. \n",
    "    * id 컬럼\n",
    "        * int(11): 정수 자료형\n",
    "        * NOT NULL: 항목이 반드시 입력되어야 함을 의미\n",
    "        * AUTO_INCREMENT: 숫자가 자동으로 하나씩 커지면서 입력됨\n",
    "    * title 컬럼\n",
    "        * varchar(100): 타이틀에 들어가는 정보가 100글자 이내라는 의미\n",
    "    * description 컬럼\n",
    "        * text: 긴 텍스트 허용\n",
    "    * author 컬럼\n",
    "        * varchar(30): 사람 이름은 길지 않음\n",
    "    * created 컬럼\n",
    "        * datetime: 시간을 다루는 특별한 자료형\n",
    "    * PRIMARY KEY(id): 성능을 위한 명령어. (여기서는 중요하지 않음)\n",
    "    * ENGINE=InnoDB DEFAULT CHARSET=utf8;\n",
    "        * 여기까지 입력해야 테이블이 생성됨.\n",
    "* `show tables;` 명령어를 실행하여 topic 테이블이 생성된 것을 확인할 수 있다.\n",
    "<p>\n",
    "<table cellspacing=\"20\">\n",
    "<tr>\n",
    "<td>\n",
    "<img src=\"images/internet-web183.png\", width=600>\n",
    "</td>\n",
    "</tr>\n",
    "</table>\n",
    "</p>"
   ]
  },
  {
   "cell_type": "markdown",
   "metadata": {},
   "source": [
    "### 특정 테이블에 행 추가하기\n",
    "\n",
    "* 컬럼에 지정된 자료형에 맞는 값들만을 지정하여 테이블에 행을 추가할 수 있다. \n",
    "* 행을 추가하는 명령어는 `INSERT` 이다.\n",
    "    * `INTO` 다음에 행을 추가할 테이블과 어떤 컬럼에 정보를 입력할지를 지정한다.\n",
    "    * 주의: 단따옴표(`'`)와 그레이브엑센트(`)를 구분해야 한다.\n",
    "    * id 컬럼은 지정하지 않아도 된다. 앞서 언급한 AUTO_INCREMENT 옵션으로 인해 \n",
    "        지금까지 사용되지 않은 정수가 자동으로 추가된다.\n",
    "<p>\n",
    "<table cellspacing=\"20\">\n",
    "<tr>\n",
    "<td>\n",
    "<img src=\"images/internet-web184.png\", width=600>\n",
    "</td>\n",
    "</tr>\n",
    "</table>\n",
    "</p>"
   ]
  },
  {
   "cell_type": "markdown",
   "metadata": {},
   "source": [
    "### 테이블 내용 확인하기: `SELECT ... FROM ...` 명령어 활용\n",
    "* 별표(`*`) 의미: 컬럼 전체를 대상으로 한다는 의미\n",
    "* 특정 컬럼들만을 지정할 수도 있다.\n",
    "<p>\n",
    "<table cellspacing=\"20\">\n",
    "<tr>\n",
    "<td>\n",
    "<img src=\"images/internet-web185.png\", width=600>\n",
    "</td>\n",
    "</tr>\n",
    "</table>\n",
    "</p>"
   ]
  },
  {
   "cell_type": "markdown",
   "metadata": {},
   "source": [
    "* `INSERT` 명령을 반복적으로 실행하면서 행을 추가해 나가면 된다.\n",
    "* 아래 그림은 4개의 행을 추가한 결과를 보여준다. \n",
    "    * description 컬럼을 제외하고 보여주도록 명령했다.\n",
    "<p>\n",
    "<table cellspacing=\"20\">\n",
    "<tr>\n",
    "<td>\n",
    "<img src=\"images/internet-web186.png\", width=600>\n",
    "</td>\n",
    "</tr>\n",
    "</table>\n",
    "</p>"
   ]
  },
  {
   "cell_type": "markdown",
   "metadata": {},
   "source": [
    "### id 컬럼 활용\n",
    "* id 컬럼의 숫자가 1씩 증가하여 자동으로 입력되었음을 확인할 수 있다.\n",
    "* id 값은 해당 행의 위치를 특징지우며, id 값을 이용하여 행에 대한 정보를 관리할 수 있다.\n",
    "* 예제: 아래 그림은 3번 행만 선택하여 확인하는 방식을 보여준다.\n",
    "<p>\n",
    "<table cellspacing=\"20\">\n",
    "<tr>\n",
    "<td>\n",
    "<img src=\"images/internet-web187.png\", width=600>\n",
    "</td>\n",
    "</tr>\n",
    "</table>\n",
    "</p>"
   ]
  },
  {
   "cell_type": "markdown",
   "metadata": {},
   "source": [
    "* 예제: id 기준으로 역순으로 정렬하기\n",
    "<p>\n",
    "<table cellspacing=\"20\">\n",
    "<tr>\n",
    "<td>\n",
    "<img src=\"images/internet-web188.png\", width=600>\n",
    "</td>\n",
    "</tr>\n",
    "</table>\n",
    "</p>"
   ]
  },
  {
   "cell_type": "markdown",
   "metadata": {},
   "source": [
    "* 예제: author 기준으로 역순으로 정렬하기\n",
    "<p>\n",
    "<table cellspacing=\"20\">\n",
    "<tr>\n",
    "<td>\n",
    "<img src=\"images/internet-web189.png\", width=600>\n",
    "</td>\n",
    "</tr>\n",
    "</table>\n",
    "</p>"
   ]
  }
 ],
 "metadata": {
  "kernelspec": {
   "display_name": "Python 2",
   "language": "python",
   "name": "python2"
  },
  "language_info": {
   "codemirror_mode": {
    "name": "ipython",
    "version": 2
   },
   "file_extension": ".py",
   "mimetype": "text/x-python",
   "name": "python",
   "nbconvert_exporter": "python",
   "pygments_lexer": "ipython2",
   "version": "2.7.13"
  }
 },
 "nbformat": 4,
 "nbformat_minor": 2
}
