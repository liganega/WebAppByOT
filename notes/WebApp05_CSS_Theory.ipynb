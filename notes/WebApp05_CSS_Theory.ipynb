{
 "cells": [
  {
   "cell_type": "markdown",
   "metadata": {},
   "source": [
    "# CSS 이론\n",
    "\n",
    "* CSS = Cascading Style Sheet\n",
    "* 스타일을 꾸며주는 언어\n",
    "* HTML과는 완전히 다른 언어이지만, HTML과는 별개로 사용될 수 없음\n",
    "    * HTML은 정보 담당\n",
    "    * CSS는 스타일 담당\n",
    "* `head` 태그 안에서 `style` 태그로 감싸임\n",
    "\n",
    "<p>\n",
    "<table cellspacing=\"20\">\n",
    "<tr>\n",
    "<td>\n",
    "<img src=\"images/internet-web32a.png\", width=300>\n",
    "</td>\n",
    "</tr>\n",
    "</table>\n",
    "</p>"
   ]
  },
  {
   "cell_type": "markdown",
   "metadata": {},
   "source": [
    "## CSS 기본문법"
   ]
  },
  {
   "cell_type": "markdown",
   "metadata": {},
   "source": [
    "###  선택자와 서술"
   ]
  },
  {
   "cell_type": "markdown",
   "metadata": {},
   "source": [
    "#### 예제\n",
    "\n",
    "h1 태그의 색상을 빨강으로 바꿀 때 아래와 같이 한다.\n",
    "\n",
    "<p>\n",
    "<table cellspacing=\"20\">\n",
    "<tr>\n",
    "<td>\n",
    "<img src=\"images/internet-web32.png\", width=600>\n",
    "</td>\n",
    "</tr>\n",
    "</table>\n",
    "</p>"
   ]
  },
  {
   "cell_type": "markdown",
   "metadata": {},
   "source": [
    "여기서 `h1`은 **선택자**라 불리고 나머지 부분은 **서술**이라고 불린다.\n",
    "\n",
    "<p>\n",
    "<table cellspacing=\"20\">\n",
    "<tr>\n",
    "<td>\n",
    "<img src=\"images/internet-web33.png\", width=600>\n",
    "</td>\n",
    "</tr>\n",
    "</table>\n",
    "</p>"
   ]
  },
  {
   "cell_type": "markdown",
   "metadata": {},
   "source": [
    "#### 서술\n",
    "서술에는 `color` 속성 이외에 다양한 속성들이 있다.\n",
    "    * `font-size`: 글자 크기. 픽셀(px) 단위로 설정\n",
    "    * `text-decoration`: 밑줄 긋기 등 설정\n",
    "    * `border`: 상자로 감싸기 옵션\n",
    "    * 등등\n",
    "    * 속성은 세미콜론(`;`)으로 구분됨."
   ]
  },
  {
   "cell_type": "markdown",
   "metadata": {},
   "source": [
    "#### 선택자\n",
    "선택자는 여러 개를 동시에 또는 따로 따로 지정할 수 있다.\n",
    "* 동시 선택: h1, h2 { 속성들 }\n",
    "    * 쉼표에 주의\n",
    "\n",
    "\n",
    "* 중첩 선택자 사용 가능\n",
    "    * 예를 들어, header 태그 안의 h1 태그에만 속성 정할 때: header h1 { 속성들 }\n",
    "        * 쉼표 없음\n",
    "        \n",
    "<p>\n",
    "<table cellspacing=\"20\">\n",
    "<tr>\n",
    "<td>\n",
    "<img src=\"images/internet-web34.png\", width=600>\n",
    "</td>\n",
    "</tr>\n",
    "</table>\n",
    "</p>    "
   ]
  },
  {
   "cell_type": "markdown",
   "metadata": {},
   "source": [
    "## CSS 심화: 박스모델\n",
    "\n",
    "html 태그들의 위치, 부피, 여백 등을 지정할 때 사용"
   ]
  },
  {
   "cell_type": "markdown",
   "metadata": {},
   "source": [
    "### 예제: 리스트의 각 항목 별로 스타일 꾸미기\n",
    "\n",
    "* 태그 선택자 사용\n",
    "    * style 태그에서: 샵(`#`) 기호 사용\n",
    "    * 본문에서는 `id` 속성 활용\n",
    "\n",
    "\n",
    "* 속성을 지정하는 방식은 기타 속성 설정과 동일\n",
    "* 아래 사진은 상자그리기의 다양한 속성을 설정하는 내용을 보여줌.\n",
    "\n",
    "<p>\n",
    "<table cellspacing=\"20\">\n",
    "<tr>\n",
    "<td>\n",
    "<img src=\"images/internet-web35.png\", width=600>\n",
    "</td>\n",
    "</tr>\n",
    "</table>\n",
    "</p>    "
   ]
  },
  {
   "cell_type": "markdown",
   "metadata": {},
   "source": [
    "### 박스모델 주요 속성\n",
    "\n",
    "박스모델에서 상자그리기의 주요 속성은 아래 그림에서 확인할 수 있다.\n",
    "\n",
    "<p>\n",
    "<table cellspacing=\"20\">\n",
    "<tr>\n",
    "<td>\n",
    "<img src=\"images/internet-web36.png\", width=600>\n",
    "</td>\n",
    "</tr>\n",
    "</table>\n",
    "</p>    "
   ]
  },
  {
   "cell_type": "markdown",
   "metadata": {},
   "source": [
    "### 크롬 브라우저의 요소검사 활용\n",
    "\n",
    "크롬 브라우저의 요소검사 기능을 이용하여 박스모델의 설정을 확인 및 연습할 수 있다.\n",
    "\n",
    "<p>\n",
    "<table cellspacing=\"20\">\n",
    "<tr>\n",
    "<td>\n",
    "<img src=\"images/internet-web37.png\", width=600>\n",
    "</td>\n",
    "</tr>\n",
    "</table>\n",
    "</p>\n",
    "\n",
    "<p>\n",
    "<table cellspacing=\"20\">\n",
    "<tr>\n",
    "<td>\n",
    "<img src=\"images/internet-web38.png\", width=600>\n",
    "</td>\n",
    "</tr>\n",
    "</table>\n",
    "</p>    "
   ]
  },
  {
   "cell_type": "markdown",
   "metadata": {},
   "source": [
    "## CSS 심화: float 기능"
   ]
  },
  {
   "cell_type": "markdown",
   "metadata": {},
   "source": [
    "* 이미지 추가할 때 유용한 기능\n",
    "* `img` 태그선택자 속성 중에서 `float` 속성을 지정하면 이미지와 본문 내용을 적절하게 꾸며줄 수 있다.\n",
    "* `float` 속성 값: `left`와 `right`\n",
    "\n",
    "<p>\n",
    "<table cellspacing=\"20\">\n",
    "<tr>\n",
    "<td>\n",
    "<img src=\"images/internet-web39.png\", width=600>\n",
    "</td>\n",
    "</tr>\n",
    "</table>\n",
    "</p>    "
   ]
  }
 ],
 "metadata": {
  "kernelspec": {
   "display_name": "Python 2",
   "language": "python",
   "name": "python2"
  },
  "language_info": {
   "codemirror_mode": {
    "name": "ipython",
    "version": 2
   },
   "file_extension": ".py",
   "mimetype": "text/x-python",
   "name": "python",
   "nbconvert_exporter": "python",
   "pygments_lexer": "ipython2",
   "version": "2.7.13"
  }
 },
 "nbformat": 4,
 "nbformat_minor": 2
}
