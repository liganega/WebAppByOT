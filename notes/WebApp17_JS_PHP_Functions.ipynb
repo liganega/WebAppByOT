{
 "cells": [
  {
   "cell_type": "markdown",
   "metadata": {},
   "source": [
    "# 함수(Functions)\n",
    "\n",
    "* 프로그램: 지금까지 배운 프로그래밍의 기초를 조합하여 원하는 기능을 수행하도록 하는 코드들의 집합\n",
    "* 함수: 작은 프로그램. 여러 개의 함수들을 조합하여 보다 복잡한 프로그램 작성 가능"
   ]
  },
  {
   "cell_type": "markdown",
   "metadata": {},
   "source": [
    "## 표현 양식\n",
    "\n",
    "* 두 언어에서 함수를 선언하고 호출하는 법이 거의 똑같다.\n",
    "\n",
    "<p>\n",
    "<table cellspacing=\"20\">\n",
    "<tr>\n",
    "<td>\n",
    "<img src=\"images/internet-web107a.png\", width=600>\n",
    "</td>\n",
    "</tr>\n",
    "</table>\n",
    "</p>"
   ]
  },
  {
   "cell_type": "markdown",
   "metadata": {},
   "source": [
    "## 예제 1: JS 함수 선언 및 호출\n",
    "        \n",
    "<p>\n",
    "<table cellspacing=\"20\">\n",
    "<tr>\n",
    "<td>\n",
    "<img src=\"images/internet-web107c.png\", width=600>\n",
    "</td>\n",
    "</tr>\n",
    "</table>\n",
    "</p>        "
   ]
  },
  {
   "cell_type": "markdown",
   "metadata": {},
   "source": [
    "## 예제 2: PHP 함수 선언 및 호출\n",
    "\n",
    "<p>\n",
    "<table cellspacing=\"20\">\n",
    "<tr>\n",
    "<td>\n",
    "<img src=\"images/internet-web107e.png\", width=600>\n",
    "</td>\n",
    "</tr>\n",
    "</table>\n",
    "</p>        "
   ]
  },
  {
   "cell_type": "markdown",
   "metadata": {},
   "source": [
    "## 함수 호출 반복\n",
    "\n",
    "* 함수는 언제든 원하는 만큼 호출이 가능하다.\n",
    "\n",
    "<p>\n",
    "<table cellspacing=\"20\">\n",
    "<tr>\n",
    "<td>\n",
    "<img src=\"images/internet-web107d.png\", width=600>\n",
    "</td>\n",
    "</tr>\n",
    "</table>\n",
    "</p>"
   ]
  },
  {
   "cell_type": "markdown",
   "metadata": {},
   "source": [
    "# 함수의 입력과 출력"
   ]
  },
  {
   "cell_type": "markdown",
   "metadata": {},
   "source": [
    "## 입력과 매개변수\n",
    "\n",
    "* 매개변수를 선언하여 입력값을 지정할 수 있다.\n",
    "\n",
    "<p>\n",
    "<table cellspacing=\"20\">\n",
    "<tr>\n",
    "<td>\n",
    "<img src=\"images/internet-web107f.png\", width=600>\n",
    "</td>\n",
    "</tr>\n",
    "</table>\n",
    "</p>"
   ]
  },
  {
   "cell_type": "markdown",
   "metadata": {},
   "source": [
    "## 사용자 정의 함수와 내장 함수"
   ]
  },
  {
   "cell_type": "markdown",
   "metadata": {},
   "source": [
    "### JS 경우"
   ]
  },
  {
   "cell_type": "markdown",
   "metadata": {},
   "source": [
    "* 앞서 정의한 함수 `a()`는 사용자가 정의한 함수이다\n",
    "* 반면에 아래 코드에서 사용된 `promt()`와 `write()`는 이미 JS에 이미 정의된, 즉 내장된(built-in) 함수이다.\n",
    "\n",
    "<p>\n",
    "<table cellspacing=\"20\">\n",
    "<tr>\n",
    "<td>\n",
    "<img src=\"images/internet-web107g.png\", width=600>\n",
    "</td>\n",
    "</tr>\n",
    "</table>\n",
    "</p>\n",
    "\n",
    "* 주의\n",
    "    * JS와 PHP는 객체지향언어이다.\n",
    "    * `document.write()`의 `document`는 객체(object)이다. \n",
    "* JS의 `document` 객체에 표함된 함수(메소드)와 속성을 확인하려면 크롬 브라우저의 개발자도구에서 \n",
    "    콘솔(Console)창을 활용할 수 있다.\n",
    "    \n",
    "<p>\n",
    "<table cellspacing=\"20\">\n",
    "<tr>\n",
    "<td>\n",
    "<img src=\"images/internet-web107h.png\", width=600>\n",
    "</td>\n",
    "</tr>\n",
    "</table>\n",
    "</p>    "
   ]
  },
  {
   "cell_type": "markdown",
   "metadata": {},
   "source": [
    "### PHP 경우\n",
    "\n",
    "* JS의 경우와 사실상 동일하다.\n",
    "\n",
    "<p>\n",
    "<table cellspacing=\"20\">\n",
    "<tr>\n",
    "<td>\n",
    "<img src=\"images/internet-web107i.png\", width=600>\n",
    "</td>\n",
    "</tr>\n",
    "</table>\n",
    "</p>"
   ]
  }
 ],
 "metadata": {
  "kernelspec": {
   "display_name": "Python 2",
   "language": "python",
   "name": "python2"
  },
  "language_info": {
   "codemirror_mode": {
    "name": "ipython",
    "version": 2
   },
   "file_extension": ".py",
   "mimetype": "text/x-python",
   "name": "python",
   "nbconvert_exporter": "python",
   "pygments_lexer": "ipython2",
   "version": "2.7.13"
  }
 },
 "nbformat": 4,
 "nbformat_minor": 2
}
