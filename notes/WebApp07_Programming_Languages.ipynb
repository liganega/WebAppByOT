{
 "cells": [
  {
   "cell_type": "markdown",
   "metadata": {},
   "source": [
    "# 웹프로그래밍 언어 간단 정리\n",
    "\n",
    "* html\n",
    "    * 1990년에 등장\n",
    "    * 웹의 씨앗 역할 수행\n",
    "* css\n",
    "    * 1994년에 등장. \n",
    "    * 웹디자인의 시작 알림\n",
    "* javascript \n",
    "    * 1995년에 등장\n",
    "    * 동적인 웹페이지 구현 가능\n",
    "    * 사용자와 웹페이지가 상호 작용\n",
    "* php\n",
    "    * 1억개 등 엄청 많은 웹페이지를 다루기 위해 등장\n",
    "    * 웹페이지를 기계처럼 생산하는 높은 생산성 제공\n",
    "* DB(data base)\n",
    "    * 많은 데이터를 효율적으로 처리하기 위해 등장\n",
    "    * 데이터 은행 역할 수행\n",
    "    * MySQL, Oracle 등등\n",
    "* 어떤 것을 먼저 배워야 한다는 순서는 없음.        \n",
    "    \n",
    "<p>\n",
    "<table cellspacing=\"20\">\n",
    "<tr>\n",
    "<td>\n",
    "<img src=\"images/internet-web55.png\", width=600>\n",
    "</td>\n",
    "</tr>\n",
    "</table>\n",
    "</p>"
   ]
  },
  {
   "cell_type": "markdown",
   "metadata": {},
   "source": [
    "# 웹브라우저와 웹서버의 관계 간단 정리"
   ]
  },
  {
   "cell_type": "markdown",
   "metadata": {},
   "source": [
    "## 웹브라우저 역할\n",
    "\n",
    "* 웹브라우저에서 웹페이지 또는 파일 주소를 이용해 웹서버에 html, css, js 등의 특정 파일을 요청\n",
    "* 웹서버는 요청받은 파일을 웹브라우저에게 건네 줌\n",
    "* 웹브라우저는 건네 받은 파일의 내용을 적절한 방식으로 화면에 보여줌.\n",
    "\n",
    "<p>\n",
    "<table cellspacing=\"20\">\n",
    "<tr>\n",
    "<td>\n",
    "<img src=\"images/internet-web56.png\", width=600>\n",
    "</td>\n",
    "</tr>\n",
    "</table>\n",
    "</p>"
   ]
  },
  {
   "cell_type": "markdown",
   "metadata": {},
   "source": [
    "## 웹서버 역할\n",
    "\n",
    "* php와 데이터베이스는 서버쪽에서 실행된다.\n",
    "* 웹브라우저가 php 파일을 요청할 때 웹서버는 단순히 해당 파일을 건네 주지 않는다.\n",
    "* 대신에 먼저 php 태그로 감싸인 코드를 php 엔진으로 실행한 결과를 html로 \n",
    "    변환하여 변경된 html 파일을 웹브라우저에게 전달한다.\n",
    "* 예를 들어, 아래 그림은 topic 이라는 테이블에서 사용된 제목만을 요청하는 php 코드를\n",
    "    php 엔진이 데이터베이스를 이용하여 실행하여 생성된 결과를 html로 변경하여 전달하는 과정을 묘사한다. \n",
    "    \n",
    "<p>\n",
    "<table cellspacing=\"20\">\n",
    "<tr>\n",
    "<td>\n",
    "<img src=\"images/internet-web57.png\", width=600>\n",
    "</td>\n",
    "</tr>\n",
    "</table>\n",
    "</p>"
   ]
  }
 ],
 "metadata": {
  "kernelspec": {
   "display_name": "Python 2",
   "language": "python",
   "name": "python2"
  },
  "language_info": {
   "codemirror_mode": {
    "name": "ipython",
    "version": 2
   },
   "file_extension": ".py",
   "mimetype": "text/x-python",
   "name": "python",
   "nbconvert_exporter": "python",
   "pygments_lexer": "ipython2",
   "version": "2.7.13"
  }
 },
 "nbformat": 4,
 "nbformat_minor": 2
}
