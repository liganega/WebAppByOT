{
 "cells": [
  {
   "cell_type": "markdown",
   "metadata": {},
   "source": [
    "# 서버와 클라이언트\n",
    "\n",
    "서버와 클라이언트는 컴퓨터로서 동일하다. \n",
    "다만 안정성과 속도의 차이가 있을 수 있다.\n",
    "\n",
    "* 클라이언트\n",
    "    * 브라우저에 웹사이트 주소 입력 하면, 웹서버에 웹페이지 문서 요청\n",
    "    * 웹서버가 응답한 웹페이지를 웹브라우저를 통해 보여줌\n",
    "* 서버\n",
    "    * 클라이언트의 요청에 응답하기 위해 필요한 기능과 자료를 저장함\n",
    "    \n",
    "인터넷 상에 존재하는 게임, 모바일 앱 등은 클라이언트와 서버의 관계를 활용하여 동작한다.  \n",
    "\n",
    "<p>\n",
    "<table cellspacing=\"20\">\n",
    "<tr>\n",
    "<td>\n",
    "<img src=\"images/internet-web03.png\" style=\"width:600\">\n",
    "</td>\n",
    "</tr>\n",
    "</table>\n",
    "</p>\n",
    "\n",
    "<p>\n",
    "<table>\n",
    "<tr>\n",
    "<td>\n",
    "<img src=\"images/internet-web04.png\" style=\"width:600\">\n",
    "</td>\n",
    "</tr>\n",
    "</table>\n",
    "</p>"
   ]
  }
 ],
 "metadata": {
  "kernelspec": {
   "display_name": "Python 3",
   "language": "python",
   "name": "python3"
  },
  "language_info": {
   "codemirror_mode": {
    "name": "ipython",
    "version": 3
   },
   "file_extension": ".py",
   "mimetype": "text/x-python",
   "name": "python",
   "nbconvert_exporter": "python",
   "pygments_lexer": "ipython3",
   "version": "3.6.3"
  }
 },
 "nbformat": 4,
 "nbformat_minor": 2
}
