{
 "cells": [
  {
   "cell_type": "markdown",
   "metadata": {},
   "source": [
    "# HTML 에 JS와 PHP 코드 삽입하기\n",
    "\n",
    "CSS언어의 경우처럼 JS 코드와 PHP 코드를 HTML 코드 안에 삽입되어 사용된다.\n",
    "\n",
    "* JS 코드 삽입: `script` 태그로 감싼다.\n",
    "* PHP 코드 삽입: `<?php` 와 `?>`로 감싼다."
   ]
  },
  {
   "cell_type": "markdown",
   "metadata": {},
   "source": [
    "## PHP 코드 예제\n",
    "\n",
    "10+10의 결과를 출력하는 PHP 코드를 작성하고자 한다.\n",
    "\n",
    "* PHP 출력 명령어: `echo`\n",
    "\n",
    "* 주의사항: PHP 코드 부분을 웹브라우저에서 소스코드를 확인할 때 모양이 달라진다.\n",
    "\n",
    "<p>\n",
    "<table cellspacing=\"20\">\n",
    "<tr>\n",
    "<td>\n",
    "<img src=\"images/internet-web65.png\", width=600>\n",
    "</td>\n",
    "</tr>\n",
    "</table>\n",
    "</p>"
   ]
  },
  {
   "cell_type": "markdown",
   "metadata": {},
   "source": [
    "* 이유는 웹서버의 PHP 엔진이라 불리는 핵석기가 해당 PHP 코드를 실행한 결과를 HTML 코드로 변경하여 \n",
    "    수정한 결과인 HTML 파일을 웹브라우저에게 넘겨주기 때문이다.\n",
    "\n",
    "<p>\n",
    "<table cellspacing=\"20\">\n",
    "<tr>\n",
    "<td>\n",
    "<img src=\"images/internet-web66.png\", width=600>\n",
    "</td>\n",
    "</tr>\n",
    "</table>\n",
    "</p>"
   ]
  },
  {
   "cell_type": "markdown",
   "metadata": {},
   "source": [
    "## JS 코드 예제\n",
    "10+10의 결과를 출력하는 JS 코드를 작성하고자 한다.\n",
    "\n",
    "* JS 출력 명령어: `document.write`\n",
    "\n",
    "<p>\n",
    "<table cellspacing=\"20\">\n",
    "<tr>\n",
    "<td>\n",
    "<img src=\"images/internet-web67.png\", width=600>\n",
    "</td>\n",
    "</tr>\n",
    "</table>\n",
    "</p>"
   ]
  },
  {
   "cell_type": "markdown",
   "metadata": {},
   "source": [
    "* 주의사항: JS 코드 부분을 웹브라우저에서 소스코드를 확인하면 소스코드는 변하지 않는다.\n",
    "    대신에 연산 결과는 달리 보여진다.\n",
    "    \n",
    "<p>\n",
    "<table cellspacing=\"20\">\n",
    "<tr>\n",
    "<td>\n",
    "<img src=\"images/internet-web68.png\", width=600>\n",
    "</td>\n",
    "</tr>\n",
    "</table>\n",
    "</p>"
   ]
  },
  {
   "cell_type": "markdown",
   "metadata": {},
   "source": [
    "## 주요 포인트\n",
    "\n",
    "* PHP 코드는 __웹서버가 실행__하고, 그 결과를 웹브라우저에게 전달한다. 소스코드가 HTML로 변경되어져서 전달된다.\n",
    "* JS 코드는 __웹브라우저가 실행__하고 그 결과를 보여준다. 따라서 소스코드는 변하지 않는다."
   ]
  }
 ],
 "metadata": {
  "kernelspec": {
   "display_name": "Python 2",
   "language": "python",
   "name": "python2"
  },
  "language_info": {
   "codemirror_mode": {
    "name": "ipython",
    "version": 2
   },
   "file_extension": ".py",
   "mimetype": "text/x-python",
   "name": "python",
   "nbconvert_exporter": "python",
   "pygments_lexer": "ipython2",
   "version": "2.7.13"
  }
 },
 "nbformat": 4,
 "nbformat_minor": 2
}
