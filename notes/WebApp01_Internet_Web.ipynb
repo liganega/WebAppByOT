{
 "cells": [
  {
   "cell_type": "markdown",
   "metadata": {},
   "source": [
    "# 인터넷과 웹 소개\n",
    "\n",
    "* 인터넷(internet): \n",
    "    * 1960년대 등장\n",
    "    * 전 세계 컴퓨터들을 연결하는 네트워크\n",
    "    * 자료 공유 가능\n",
    "    * 인터넷 상에 웹(web), ftp, 이메일(email) 등이 돌아감\n",
    "* 웹(web): 컴퓨터가 html로 작성된 정보를 주고 받도록 고안된 시스템\n",
    "    * 1990년에 등장\n",
    "    * 창시자: 팀 버너스리\n",
    "    * 웹브라우저와 서버 모두 개발\n",
    "\n",
    "<p>\n",
    "<table cellspacing=\"20\">\n",
    "<tr>\n",
    "<td>\n",
    "<img src=\"images/internet-web01.png\" style=\"width:600\">\n",
    "</td>\n",
    "</tr>\n",
    "</table>\n",
    "</p>\n",
    "\n",
    "<p>\n",
    "<table>\n",
    "<tr>\n",
    "<td>\n",
    "<img src=\"images/internet-web02.png\" style=\"width:600\">\n",
    "</td>\n",
    "</tr>\n",
    "</table>\n",
    "</p>"
   ]
  },
  {
   "cell_type": "markdown",
   "metadata": {},
   "source": [
    "# 인터넷에서 웹이 작동하기 위한 구성 요소\n",
    "\n",
    "* 클라이언트와 서버로 구성됨.\n",
    "\n",
    "<p>\n",
    "<table cellspacing=\"20\">\n",
    "<tr>\n",
    "<td>\n",
    "<img src=\"images/internet-web02a.png\" style=\"width:600\">\n",
    "</td>\n",
    "</tr>\n",
    "</table>\n",
    "</p>"
   ]
  }
 ],
 "metadata": {
  "kernelspec": {
   "display_name": "Python 3",
   "language": "python",
   "name": "python3"
  },
  "language_info": {
   "codemirror_mode": {
    "name": "ipython",
    "version": 3
   },
   "file_extension": ".py",
   "mimetype": "text/x-python",
   "name": "python",
   "nbconvert_exporter": "python",
   "pygments_lexer": "ipython3",
   "version": "3.6.3"
  }
 },
 "nbformat": 4,
 "nbformat_minor": 2
}
