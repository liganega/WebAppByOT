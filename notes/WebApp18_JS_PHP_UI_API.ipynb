{
 "cells": [
  {
   "cell_type": "markdown",
   "metadata": {},
   "source": [
    "# UI vs API"
   ]
  },
  {
   "cell_type": "markdown",
   "metadata": {},
   "source": [
    "* UI = User Interface\n",
    "* API = Application Programming Interface\n",
    "\n",
    "서로 비슷하며 다르다."
   ]
  },
  {
   "cell_type": "markdown",
   "metadata": {},
   "source": [
    "## 공통점과 차이점\n",
    "\n",
    "* 사람과 기계가 서로 정보를 주곱받는 기능 제공\n",
    "* 예제\n",
    "    * UI: 프롬프트 창\n",
    "    * API: 프롬프트 창이 실행되도록 하는 `promt()`와 같은 함수 또는 프로그램\n",
    "\n",
    "<p>\n",
    "<table cellspacing=\"20\">\n",
    "<tr>\n",
    "<td>\n",
    "<img src=\"images/internet-web108.png\", width=600>\n",
    "</td>\n",
    "</tr>\n",
    "</table>\n",
    "</p>\n",
    "\n",
    "* 프롬프트 창은 기본적으로 웹브라우저가 미리 만들어 놓은 기능이다.\n",
    "    * 하나의 UI 또는 API를 만들기 위해 많은 기능, 함수, 프로그램 뿐만 아니라 \n",
    "        운영체제, 프로그래밍언어 등 많은 과정과 도구가 요구된다."
   ]
  },
  {
   "cell_type": "markdown",
   "metadata": {},
   "source": [
    "# API 전성시대\n",
    "\n",
    "API는 프로그래밍으로 제어할 수 있는 대상을 의미함."
   ]
  },
  {
   "cell_type": "markdown",
   "metadata": {},
   "source": [
    "## 운영체제 시대\n",
    "\n",
    "초창기엔 윈도우, 리눅스, 맥 등의 운영체제가 유일한 API 기능 제공\n",
    "\n",
    "<p>\n",
    "<table cellspacing=\"20\">\n",
    "<tr>\n",
    "<td>\n",
    "<img src=\"images/internet-web108a.png\", width=600>\n",
    "</td>\n",
    "</tr>\n",
    "</table>\n",
    "</p>"
   ]
  },
  {
   "cell_type": "markdown",
   "metadata": {},
   "source": [
    "## 웹브라우저 시대\n",
    "\n",
    "웹브라우저의 출현 이후 상황 달라짐\n",
    "\n",
    "<p>\n",
    "<table cellspacing=\"20\">\n",
    "<tr>\n",
    "<td>\n",
    "<img src=\"images/internet-web108b.png\", width=600>\n",
    "</td>\n",
    "</tr>\n",
    "</table>\n",
    "</p>\n",
    "\n",
    "운영체제 상의 하나의 애플리케이션이지만, 스스로 API 기능 제공\n",
    "* 예: 구글플러서, 트위터, 페이스북 등등\n",
    "\n",
    "<p>\n",
    "<table cellspacing=\"20\">\n",
    "<tr>\n",
    "<td>\n",
    "<img src=\"images/internet-web108c.png\", width=600>\n",
    "</td>\n",
    "</tr>\n",
    "</table>\n",
    "</p>\n",
    "\n",
    "이후 스스로 게임 등 다양한 API를 제공하는 수 많은 웹애플리케이션 등장 및 발전\n",
    "\n",
    "<p>\n",
    "<table cellspacing=\"20\">\n",
    "<tr>\n",
    "<td>\n",
    "<img src=\"images/internet-web108d.png\", width=600>\n",
    "</td>\n",
    "</tr>\n",
    "</table>\n",
    "</p>"
   ]
  },
  {
   "cell_type": "markdown",
   "metadata": {},
   "source": [
    "## 스마트폰 시대 \n",
    "\n",
    "스마트폰의 플랫폼이 새로운 API 제공함.\n",
    "\n",
    "<p>\n",
    "<table cellspacing=\"20\">\n",
    "<tr>\n",
    "<td>\n",
    "<img src=\"images/internet-web108e.png\", width=600>\n",
    "</td>\n",
    "</tr>\n",
    "</table>\n",
    "</p>\n",
    "\n",
    "이제는 다양한 생활도구 등도 자체적인 API 제공\n",
    "\n",
    "* 보일러, 전구 등\n",
    "\n",
    "<p>\n",
    "<table cellspacing=\"20\">\n",
    "<tr>\n",
    "<td>\n",
    "<img src=\"images/internet-web108f.png\", width=600>\n",
    "</td>\n",
    "</tr>\n",
    "</table>\n",
    "</p>"
   ]
  },
  {
   "cell_type": "markdown",
   "metadata": {},
   "source": [
    "# 결론\n",
    "* API의 폭발적 증가\n",
    "* 쉬워진 프로그래밍\n",
    "* 인간친화적 프로그래밍 언어가 등장함\n",
    "* 어떻게 프로그래밍에 접근할지 보다 많은 고민이 필요함\n",
    "    * 적정 용도의 언어를 적정 수준으로 배워야 함\n",
    "        * 운영체제 개발: C 언어 활용\n",
    "        * 웹개발: JavaScript, PHP\n",
    "    * 전략적으로 접근해야 함\n",
    "        * 장기전략: 능숙언 언어의 사용자 되기\n",
    "        * 단기전략: 서툰 코딩실력으로 무언가 만들어 보기\n",
    "            * 다양한 API를 탐험하고 사용해 보기        \n",
    "    * 전공 과정에 집중하기\n",
    "    * 아래 사이트 참조: https://opentutorials.org/course/1189"
   ]
  }
 ],
 "metadata": {
  "kernelspec": {
   "display_name": "Python 2",
   "language": "python",
   "name": "python2"
  },
  "language_info": {
   "codemirror_mode": {
    "name": "ipython",
    "version": 2
   },
   "file_extension": ".py",
   "mimetype": "text/x-python",
   "name": "python",
   "nbconvert_exporter": "python",
   "pygments_lexer": "ipython2",
   "version": "2.7.13"
  }
 },
 "nbformat": 4,
 "nbformat_minor": 2
}
